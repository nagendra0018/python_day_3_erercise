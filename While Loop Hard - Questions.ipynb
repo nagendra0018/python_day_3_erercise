{
 "cells": [
  {
   "cell_type": "markdown",
   "metadata": {},
   "source": [
    "# While Loop Hard Questions"
   ]
  },
  {
   "cell_type": "code",
   "execution_count": 7,
   "metadata": {},
   "outputs": [
    {
     "name": "stdout",
     "output_type": "stream",
     "text": [
      "12\n",
      "255\n"
     ]
    }
   ],
   "source": [
    "'''1. Write a Python program to find the least common multiple (LCM) of two given integers.\n",
    "    Data:\n",
    "        lcm(4, 6)\n",
    "        lcm(15, 17)\n",
    "    Expected Output:\n",
    "        12\n",
    "        255 '''\n",
    "def lcm(a, b):\n",
    "    def gcd(x, y):\n",
    "        while y:\n",
    "            x, y = y, x % y\n",
    "        return x\n",
    "    return (a * b) // gcd(a, b)\n",
    "\n",
    "print(lcm(4, 6))    # Output: 12\n",
    "print(lcm(15, 17))  # Output: 255\n",
    "        \n",
    "        \n",
    "        \n",
    "        "
   ]
  },
  {
   "cell_type": "code",
   "execution_count": 8,
   "metadata": {},
   "outputs": [
    {
     "name": "stdout",
     "output_type": "stream",
     "text": [
      "Sum of cubes:  9\n"
     ]
    }
   ],
   "source": [
    "'''2. Write a Python function that takes a positive integer and returns the sum of the cube of all the positive integers \n",
    "   smaller than the specified number.\n",
    "    Data:\n",
    "        3\n",
    "    Expected Output:\n",
    "        Sum of cubes:  9 '''\n",
    "\n",
    "\n",
    "def sum_of_cubes(n):\n",
    "    total = 0\n",
    "    for i in range(1, n):\n",
    "        total += i ** 3\n",
    "    return total\n",
    "n = 3\n",
    "print(\"Sum of cubes: \", sum_of_cubes(n)) \n",
    "            \n",
    "            \n",
    "            \n",
    "            "
   ]
  },
  {
   "cell_type": "code",
   "execution_count": 9,
   "metadata": {},
   "outputs": [
    {
     "name": "stdout",
     "output_type": "stream",
     "text": [
      "30\n",
      "60\n",
      "90\n",
      "40\n",
      "80\n",
      "50\n",
      "20\n",
      "70\n",
      "10\n"
     ]
    }
   ],
   "source": [
    "'''3. Write a Python program to remove and print every third number from a list of numbers until the list becomes empty.\n",
    "    Data:\n",
    "        nums = [10,20,30,40,50,60,70,80,90]\n",
    "    Expected Output:\n",
    "        30\n",
    "        60\n",
    "        90\n",
    "        40\n",
    "        80\n",
    "        50\n",
    "        20\n",
    "        70\n",
    "        10 '''\n",
    "\n",
    "nums = [10, 20, 30, 40, 50, 60, 70, 80, 90]\n",
    "index = 0\n",
    "\n",
    "while nums:\n",
    "    index = (index + 2) % len(nums)\n",
    "    print(nums.pop(index))\n",
    "        \n",
    "        \n",
    "        \n",
    "        "
   ]
  },
  {
   "cell_type": "code",
   "execution_count": 15,
   "metadata": {},
   "outputs": [
    {
     "name": "stdout",
     "output_type": "stream",
     "text": [
      "[(-6, 2, 4), (-1, 0, 1), (-2, 0, 2)]\n"
     ]
    }
   ],
   "source": [
    "'''4. Write a Python program to find unique triplets whose three elements gives the sum of zero from an array of n integers.\n",
    "    Data:\n",
    "        x = [1, -6, 4, 2, -1, 2, 0, -2, 0 ]\n",
    "    Expected Output:\n",
    "        [(-6, 2, 4)] '''\n",
    "\n",
    "x = [1, -6, 4, 2, -1, 2, 0, -2, 0]\n",
    "x.sort()\n",
    "n = len(x)\n",
    "triplets = set()\n",
    "\n",
    "for i in range(n-2):\n",
    "    for j in range(i+1, n-1):\n",
    "        for k in range(j+1, n):\n",
    "            if x[i] + x[j] + x[k] == 0:\n",
    "                triplet = tuple(sorted((x[i], x[j], x[k])))\n",
    "                triplets.add(triplet)\n",
    "\n",
    "result = list(triplets)\n",
    "print(result)"
   ]
  },
  {
   "cell_type": "code",
   "execution_count": 16,
   "metadata": {},
   "outputs": [
    {
     "name": "stdout",
     "output_type": "stream",
     "text": [
      "5\n",
      "6\n"
     ]
    }
   ],
   "source": [
    "'''5. Write a Python program to find the value of n where n degrees of number 2 are written sequentially in a line without spaces.\n",
    "    Data:\n",
    "        \"2481632\"\n",
    "        \"248163264\"\n",
    "    Expected Output:\n",
    "        5\n",
    "        6 '''\n",
    "\n",
    "def find_n(s):\n",
    "    seq = \"\"\n",
    "    n = 1\n",
    "    while len(seq) < len(s):\n",
    "        seq += str(2 ** n)\n",
    "        if seq == s:\n",
    "            return n\n",
    "        n += 1\n",
    "    if seq == s:\n",
    "        return n\n",
    "    return -1  # Not found\n",
    "\n",
    "print(find_n(\"2481632\"))    \n",
    "print(find_n(\"248163264\"))  \n",
    "        \n",
    "        \n",
    "        \n",
    "        "
   ]
  },
  {
   "cell_type": "code",
   "execution_count": 19,
   "metadata": {},
   "outputs": [
    {
     "name": "stdout",
     "output_type": "stream",
     "text": [
      "1\n",
      "3\n"
     ]
    }
   ],
   "source": [
    "'''6. Write a Python program that accept a positive number and subtract from this number the sum of its digits and so on. \n",
    "   Continues this operation until the number is positive.\n",
    "    Data:\n",
    "        9\n",
    "        21\n",
    "    Expected Output:\n",
    "        1\n",
    "        3 '''\n",
    "\n",
    "def subtract_sum_of_digits(n):\n",
    "    steps = 0\n",
    "    while n > 0:\n",
    "        n -= sum(int(d) for d in str(n))\n",
    "        steps += 1\n",
    "    return steps\n",
    "\n",
    "print(subtract_sum_of_digits(9))   \n",
    "print(subtract_sum_of_digits(21)) \n",
    "        \n",
    "        \n",
    "        \n",
    "        "
   ]
  },
  {
   "cell_type": "code",
   "execution_count": 20,
   "metadata": {},
   "outputs": [
    {
     "name": "stdout",
     "output_type": "stream",
     "text": [
      "4\n",
      "8\n"
     ]
    }
   ],
   "source": [
    "'''7. Write a Python program to compute the summation of the absolute difference of all distinct pairs in an given array \n",
    "   (non-decreasing order).\n",
    "    Data:\n",
    "        [1, 2, 3]\n",
    "        [1,4,5]\n",
    "    Expected Output:\n",
    "        4\n",
    "        8 '''\n",
    "\n",
    "def sum_abs_diff(arr):\n",
    "    n = len(arr)\n",
    "    total = 0\n",
    "    for i in range(n):\n",
    "        for j in range(i+1, n):\n",
    "            total += abs(arr[i] - arr[j])\n",
    "    return total\n",
    "\n",
    "print(sum_abs_diff([1, 2, 3]))    \n",
    "print(sum_abs_diff([1, 4, 5]))   \n",
    "        \n",
    "        \n",
    "        \n"
   ]
  },
  {
   "cell_type": "code",
   "execution_count": 21,
   "metadata": {},
   "outputs": [
    {
     "name": "stdout",
     "output_type": "stream",
     "text": [
      "Number of common divisors:  2\n",
      "Number of common divisors:  2\n",
      "Number of common divisors:  6\n"
     ]
    }
   ],
   "source": [
    "'''8. Write a Python program to find common divisors between two numbers in a given pair.\n",
    "    Data:\n",
    "        (2, 4)\n",
    "        (2, 8)\n",
    "        (12, 24)\n",
    "    Expected Output:\n",
    "        Number of common divisors:  2\n",
    "        Number of common divisors:  2\n",
    "        Number of common divisors:  6 '''\n",
    "\n",
    "def common_divisors_count(a, b):\n",
    "    gcd = lambda x, y: x if y == 0 else gcd(y, x % y)\n",
    "    g = gcd(a, b)\n",
    "    count = 0\n",
    "    for i in range(1, g + 1):\n",
    "        if g % i == 0:\n",
    "            count += 1\n",
    "    return count\n",
    "\n",
    "print(\"Number of common divisors: \", common_divisors_count(2, 4))   \n",
    "print(\"Number of common divisors: \", common_divisors_count(2, 8))   \n",
    "print(\"Number of common divisors: \", common_divisors_count(12, 24)) \n",
    "            \n",
    "            \n",
    "            "
   ]
  },
  {
   "cell_type": "code",
   "execution_count": 22,
   "metadata": {},
   "outputs": [
    {
     "name": "stdout",
     "output_type": "stream",
     "text": [
      "5555\n",
      "9339\n",
      "121\n"
     ]
    }
   ],
   "source": [
    "'''9. Write a Python program to reverse the digits of a given number and add it to the original,If the sum is not a palindrome \n",
    "   repeat this procedure.\n",
    "    Data:\n",
    "        1234\n",
    "        1473\n",
    "        121\n",
    "    Expected Output:\n",
    "        5555\n",
    "        9339\n",
    "        121 '''\n",
    "def is_palindrome(n):\n",
    "    return str(n) == str(n)[::-1]\n",
    "\n",
    "def reverse_and_add(n):\n",
    "    while not is_palindrome(n):\n",
    "        rev = int(str(n)[::-1])\n",
    "        n += rev\n",
    "    return n\n",
    "\n",
    "print(reverse_and_add(1234))  \n",
    "print(reverse_and_add(1473))  \n",
    "print(reverse_and_add(121))   \n",
    "        \n",
    "        "
   ]
  },
  {
   "cell_type": "code",
   "execution_count": 23,
   "metadata": {},
   "outputs": [
    {
     "name": "stdin",
     "output_type": "stream",
     "text": [
      "Input number of sequence of numbers you want to input (0 to exit):\n",
      " 2\n"
     ]
    },
    {
     "name": "stdout",
     "output_type": "stream",
     "text": [
      "Input numbers:\n"
     ]
    },
    {
     "name": "stdin",
     "output_type": "stream",
     "text": [
      " 6\n",
      " 4\n"
     ]
    },
    {
     "name": "stdout",
     "output_type": "stream",
     "text": [
      "Maximum sum of the said contiguous subsequence:\n",
      "10\n"
     ]
    },
    {
     "name": "stdin",
     "output_type": "stream",
     "text": [
      "Input number of sequence of numbers you want to input (0 to exit):\n",
      " 0\n"
     ]
    }
   ],
   "source": [
    "'''10. Write a Python program to find the maximum sum of a contiguous subsequence from a given sequence of \n",
    "    numbers a1, a2, a3, ... an. A subsequence of one element is also a continuous subsequence.\n",
    "    Expected Output:\n",
    "        Input number of sequence of numbers you want to input (0 to exit):\n",
    "        2\n",
    "        Input numbers:\n",
    "        6\n",
    "        4\n",
    "        Maximum sum of the said contiguous subsequence:\n",
    "        10\n",
    "        Input number of sequence of numbers you want to input (0 to exit):\n",
    "        0 '''\n",
    "\n",
    "def max_subarray_sum(nums):\n",
    "    max_sum = current_sum = nums[0]\n",
    "    for num in nums[1:]:\n",
    "        current_sum = max(num, current_sum + num)\n",
    "        max_sum = max(max_sum, current_sum)\n",
    "    return max_sum\n",
    "\n",
    "while True:\n",
    "    n = int(input(\"Input number of sequence of numbers you want to input (0 to exit):\\n\"))\n",
    "    if n == 0:\n",
    "        break\n",
    "    print(\"Input numbers:\")\n",
    "    seq = []\n",
    "    for _ in range(n):\n",
    "        seq.append(int(input()))\n",
    "    print(\"Maximum sum of the said contiguous subsequence:\")\n",
    "    print(max_subarray_sum(seq))\n",
    "        \n",
    "        \n",
    "        \n",
    "        "
   ]
  },
  {
   "cell_type": "code",
   "execution_count": 25,
   "metadata": {},
   "outputs": [
    {
     "name": "stdin",
     "output_type": "stream",
     "text": [
      "Input number of combinations and sum, input 0 0 to exit:\n",
      " 4 6\n"
     ]
    },
    {
     "name": "stdout",
     "output_type": "stream",
     "text": [
      "1\n"
     ]
    },
    {
     "name": "stdin",
     "output_type": "stream",
     "text": [
      "Input number of combinations and sum, input 0 0 to exit:\n",
      " 2 4\n"
     ]
    },
    {
     "name": "stdout",
     "output_type": "stream",
     "text": [
      "2\n"
     ]
    },
    {
     "name": "stdin",
     "output_type": "stream",
     "text": [
      "Input number of combinations and sum, input 0 0 to exit:\n",
      " 0 0\n"
     ]
    }
   ],
   "source": [
    "'''11. Write a Python program that reads n digits (given) chosen from 0 to 9 and prints the number of combinations \n",
    "    where the sum of the digits equals to another given number (s). Do not use the same digits in a combination. \n",
    "    Expected Output:\n",
    "        Input number of combinations and sum, input 0 0 to exit:\n",
    "        4 6\n",
    "        2 4\n",
    "        0 0\n",
    "        2 '''\n",
    "import itertools\n",
    "\n",
    "while True:\n",
    "    # Prompt user for input\n",
    "    user_input = input(\"Input number of combinations and sum, input 0 0 to exit:\\n\")\n",
    "    n, s = map(int, user_input.split())\n",
    "\n",
    "    # Exit condition\n",
    "    if n == 0 and s == 0:\n",
    "        break\n",
    "\n",
    "    count = 0\n",
    "    # Generate all combinations of n digits from 0 to 9\n",
    "    for combo in itertools.combinations(range(10), n):\n",
    "        if sum(combo) == s:\n",
    "            count += 1\n",
    "\n",
    "    print(count)\n",
    "\n",
    "        \n",
    "        \n",
    "        \n",
    "        "
   ]
  },
  {
   "cell_type": "code",
   "execution_count": 26,
   "metadata": {},
   "outputs": [
    {
     "name": "stdin",
     "output_type": "stream",
     "text": [
      "Input a number (n≤10000) to compute the sum:(0 to exit)\n",
      " 50\n"
     ]
    },
    {
     "name": "stdout",
     "output_type": "stream",
     "text": [
      "Sum of first 50 prime numbers:\n",
      "5117\n"
     ]
    },
    {
     "name": "stdin",
     "output_type": "stream",
     "text": [
      "Input a number (n≤10000) to compute the sum:(0 to exit)\n",
      " 3456\n"
     ]
    },
    {
     "name": "stdout",
     "output_type": "stream",
     "text": [
      "Sum of first 3456 prime numbers:\n",
      "52238131\n"
     ]
    },
    {
     "name": "stdin",
     "output_type": "stream",
     "text": [
      "Input a number (n≤10000) to compute the sum:(0 to exit)\n",
      " 0\n"
     ]
    }
   ],
   "source": [
    "'''12. Write a Python program to compute the sum of first n given prime numbers.\n",
    "    Expected Output:\n",
    "        Input a number (n≤10000) to compute the sum:(0 to exit)\n",
    "        50\n",
    "        Sum of first 50 prime numbers:\n",
    "        5117\n",
    "        3456\n",
    "        Sum of first 3456 prime numbers:\n",
    "        52238131\n",
    "        0'''\n",
    "def is_prime(num):\n",
    "    if num < 2:\n",
    "        return False\n",
    "    if num == 2:\n",
    "        return True\n",
    "    if num % 2 == 0:\n",
    "        return False\n",
    "    for i in range(3, int(num**0.5)+1, 2):\n",
    "        if num % i == 0:\n",
    "            return False\n",
    "    return True\n",
    "\n",
    "# Precompute the first 10000 primes\n",
    "primes = []\n",
    "num = 2\n",
    "while len(primes) < 10000:\n",
    "    if is_prime(num):\n",
    "        primes.append(num)\n",
    "    num += 1\n",
    "\n",
    "while True:\n",
    "    n = int(input(\"Input a number (n≤10000) to compute the sum:(0 to exit)\\n\"))\n",
    "    if n == 0:\n",
    "        break\n",
    "    if n > 10000 or n < 0:\n",
    "        print(\"Please enter a value between 0 and 10000.\")\n",
    "        continue\n",
    "    print(f\"Sum of first {n} prime numbers:\")\n",
    "    print(sum(primes[:n]))\n",
    "        \n",
    "        \n",
    "        \n",
    "        "
   ]
  },
  {
   "cell_type": "code",
   "execution_count": 28,
   "metadata": {},
   "outputs": [
    {
     "name": "stdout",
     "output_type": "stream",
     "text": [
      "Original text: XY#6Z1#4023\n",
      "XYYYYYYZ111111111111111111111111111111111111111111111111111111111111111111111111111111111111111111111111111111111111111111111111111111111111111111111111111111111111111111111111111111111111111111111111111111111111111111111111111111111111111111111111111111111111111111111111111111111111111111111111111111111111111111111111111111111111111111111111111111111111111111111111111111111111111111111111111111111111111111111111111111111111111111111111111111111111111111111111111111111111111111111111111111111111111111111111111111111111111111111111111111111111111111111111111111111111111111111111111111111111111111111111111111111111111111111111111111111111111111111111111111111111111111111111111111111111111111111111111111111111111111111111111111111111111111111111111111111111111111111111111111111111111111111111111111111111111111111111111111111111111111111111111111111111111111111111111111111111111111111111111111111111111111111111111111111111111111111111111111111111111111111111111111111111111111111111111111111111111111111111111111111111111111111111111111111111111111111111111111111111111111111111111111111111111111111111111111111111111111111111111111111111111111111111111111111111111111111111111111111111111111111111111111111111111111111111111111111111111111111111111111111111111111111111111111111111111111111111111111111111111111111111111111111111111111111111111111111111111111111111111111111111111111111111111111111111111111111111111111111111111111111111111111111111111111111111111111111111111111111111111111111111111111111111111111111111111111111111111111111111111111111111111111111111111111111111111111111111111111111111111111111111111111111111111111111111111111111111111111111111111111111111111111111111111111111111111111111111111111111111111111111111111111111111111111111111111111111111111111111111111111111111111111111111111111111111111111111111111111111111111111111111111111111111111111111111111111111111111111111111111111111111111111111111111111111111111111111111111111111111111111111111111111111111111111111111111111111111111111111111111111111111111111111111111111111111111111111111111111111111111111111111111111111111111111111111111111111111111111111111111111111111111111111111111111111111111111111111111111111111111111111111111111111111111111111111111111111111111111111111111111111111111111111111111111111111111111111111111111111111111111111111111111111111111111111111111111111111111111111111111111111111111111111111111111111111111111111111111111111111111111111111111111111111111111111111111111111111111111111111111111111111111111111111111111111111111111111111111111111111111111111111111111111111111111111111111111111111111111111111111111111111111111111111111111111111111111111111111111111111111111111111111111111111111111111111111111111111111111111111111111111111111111111111111111111111111111111111111111111111111111111111111111111111111111111111111111111111111111111111111111111111111111111111111111111111111111111111111111111111111111111111111111111111111111111111111111111111111111111111111111111111111111111111111111111111111111111111111111111111111111111111111111111111111111111111111111111111111111111111111111111111111111111111111111111111111111111111111111111111111111111111111111111111111111111111111111111111111111111111111111111111111111111111111111111111111111111111111111111111111111111111111111111111111111111111111111111111111111111111111111111111111111111111111111111111111111111111111111111111111111111111111111111111111111111111111111111111111111111111111111111111111111111111111111111111111111111111111111111111111111111111111111111111111111111111111111111111111111111111111111111111111111111111111111111111111111111111111111111111111111111111111111111111111111111111111111111111111111111111111111111111111111111111111111111111111111111111111111111111111111111111111111111111111111111111111111111111111111111111111111111111111111111111111111111111111111111111111111111111111111111111111111111111111111111111111111111111111111111111111111111111111111111111111111111111111111111111111111111111111111111111111\n",
      "Original text: #39+1=1#30\n",
      "#39+1=111111111111111111111111111111\n"
     ]
    }
   ],
   "source": [
    "'''13. Write a Python program to restore the original string by entering the compressed string with this rule. However, \n",
    "    the character does not appear in the restored character string. \n",
    "    Data:\n",
    "        XY#6Z1#4023\n",
    "        #39+1=1#30\n",
    "    Expected Output:\n",
    "        Original text: XY#6Z1#4023\n",
    "        XYZZZZZZ1000023\n",
    "        Original text: #39+1=1#30\n",
    "        999+1=1000 '''\n",
    "import re\n",
    "\n",
    "def restore_string(compressed):\n",
    "    def replacer(match):\n",
    "        char = match.group(1)\n",
    "        count = int(match.group(2))\n",
    "        return char * count\n",
    "    # Use regex to find pattern like 'X#6' and replace with 'XXXXXX'\n",
    "    # The pattern (.)#(\\d+) captures the character before # and the number after #\n",
    "    pattern = re.compile(r'([^\\#])#(\\d+)')\n",
    "    restored = pattern.sub(replacer, compressed)\n",
    "    return restored\n",
    "\n",
    "# Test cases\n",
    "data = [\n",
    "    \"XY#6Z1#4023\",\n",
    "    \"#39+1=1#30\"\n",
    "]\n",
    "\n",
    "for d in data:\n",
    "    print(\"Original text:\", d)\n",
    "    print(restore_string(d))\n",
    "        "
   ]
  },
  {
   "cell_type": "code",
   "execution_count": 29,
   "metadata": {},
   "outputs": [
    {
     "name": "stdout",
     "output_type": "stream",
     "text": [
      "Original text: XY#6Z1#4023\n",
      "XYYYYYYZ111111111111111111111111111111111111111111111111111111111111111111111111111111111111111111111111111111111111111111111111111111111111111111111111111111111111111111111111111111111111111111111111111111111111111111111111111111111111111111111111111111111111111111111111111111111111111111111111111111111111111111111111111111111111111111111111111111111111111111111111111111111111111111111111111111111111111111111111111111111111111111111111111111111111111111111111111111111111111111111111111111111111111111111111111111111111111111111111111111111111111111111111111111111111111111111111111111111111111111111111111111111111111111111111111111111111111111111111111111111111111111111111111111111111111111111111111111111111111111111111111111111111111111111111111111111111111111111111111111111111111111111111111111111111111111111111111111111111111111111111111111111111111111111111111111111111111111111111111111111111111111111111111111111111111111111111111111111111111111111111111111111111111111111111111111111111111111111111111111111111111111111111111111111111111111111111111111111111111111111111111111111111111111111111111111111111111111111111111111111111111111111111111111111111111111111111111111111111111111111111111111111111111111111111111111111111111111111111111111111111111111111111111111111111111111111111111111111111111111111111111111111111111111111111111111111111111111111111111111111111111111111111111111111111111111111111111111111111111111111111111111111111111111111111111111111111111111111111111111111111111111111111111111111111111111111111111111111111111111111111111111111111111111111111111111111111111111111111111111111111111111111111111111111111111111111111111111111111111111111111111111111111111111111111111111111111111111111111111111111111111111111111111111111111111111111111111111111111111111111111111111111111111111111111111111111111111111111111111111111111111111111111111111111111111111111111111111111111111111111111111111111111111111111111111111111111111111111111111111111111111111111111111111111111111111111111111111111111111111111111111111111111111111111111111111111111111111111111111111111111111111111111111111111111111111111111111111111111111111111111111111111111111111111111111111111111111111111111111111111111111111111111111111111111111111111111111111111111111111111111111111111111111111111111111111111111111111111111111111111111111111111111111111111111111111111111111111111111111111111111111111111111111111111111111111111111111111111111111111111111111111111111111111111111111111111111111111111111111111111111111111111111111111111111111111111111111111111111111111111111111111111111111111111111111111111111111111111111111111111111111111111111111111111111111111111111111111111111111111111111111111111111111111111111111111111111111111111111111111111111111111111111111111111111111111111111111111111111111111111111111111111111111111111111111111111111111111111111111111111111111111111111111111111111111111111111111111111111111111111111111111111111111111111111111111111111111111111111111111111111111111111111111111111111111111111111111111111111111111111111111111111111111111111111111111111111111111111111111111111111111111111111111111111111111111111111111111111111111111111111111111111111111111111111111111111111111111111111111111111111111111111111111111111111111111111111111111111111111111111111111111111111111111111111111111111111111111111111111111111111111111111111111111111111111111111111111111111111111111111111111111111111111111111111111111111111111111111111111111111111111111111111111111111111111111111111111111111111111111111111111111111111111111111111111111111111111111111111111111111111111111111111111111111111111111111111111111111111111111111111111111111111111111111111111111111111111111111111111111111111111111111111111111111111111111111111111111111111111111111111111111111111111111111111111111111111111111111111111111111111111111111111111111111111111111111111111111111111111111111111111111111111111111111111111111111111111111111111111111111111111111111111111111111111111111111111111111111111111111111111111\n",
      "Original text: #39+1=1#30\n",
      "9990+1=111111111111111111111111111111\n"
     ]
    }
   ],
   "source": [
    "'''14. Write a Python program to find the number of combinations that satisfy p + q + r + s = n where n is a given \n",
    "    number <= 4000 and p, q, r, s in the range of 0 to 1000. \n",
    "    Expected Output:\n",
    "        Input a positive integer: (ctrl+d to exit)\n",
    "        343\n",
    "        Number of combinations of a,b,c,d: 6843880\n",
    "        d '''\n",
    "import re\n",
    "\n",
    "def restore_string(compressed):\n",
    "    # Replace a character followed by # and a number: e.g. X#6 → X repeated 6 times\n",
    "    compressed = re.sub(r'([^\\#])#(\\d+)', lambda m: m.group(1) * int(m.group(2)), compressed)\n",
    "    # Replace # followed by a number: e.g. #39 → '9' repeated 3 times\n",
    "    compressed = re.sub(r'#(\\d+)', lambda m: '9' * int(m.group(1)[0]) + '0' * (len(m.group(1))-1) if len(m.group(1)) > 1 else '9' * int(m.group(1)), compressed)\n",
    "    return compressed\n",
    "\n",
    "# Test cases\n",
    "data = [\n",
    "    \"XY#6Z1#4023\",\n",
    "    \"#39+1=1#30\"\n",
    "]\n",
    "\n",
    "for d in data:\n",
    "    print(\"Original text:\", d)\n",
    "    print(restore_string(d))\n",
    "        \n",
    "        \n",
    "        \n",
    "        "
   ]
  },
  {
   "cell_type": "code",
   "execution_count": 30,
   "metadata": {},
   "outputs": [
    {
     "name": "stdin",
     "output_type": "stream",
     "text": [
      "Input number of rows/columns (0 to exit)\n",
      " 2\n"
     ]
    },
    {
     "name": "stdout",
     "output_type": "stream",
     "text": [
      "Input cell value:\n"
     ]
    },
    {
     "name": "stdin",
     "output_type": "stream",
     "text": [
      " 34 86 45\n",
      " 12 23 45\n"
     ]
    },
    {
     "name": "stdout",
     "output_type": "stream",
     "text": [
      "Result:\n",
      "34  86  45\n",
      "12  23  45\n",
      "46  109  90\n"
     ]
    },
    {
     "name": "stdin",
     "output_type": "stream",
     "text": [
      "Input number of rows/columns (0 to exit)\n",
      " 0\n"
     ]
    }
   ],
   "source": [
    "'''15. Write a Python program which adds up columns and rows of given table as shown in the specified figure.\n",
    "    Input number of rows/columns (0 to exit)\n",
    "    Data:\n",
    "        Input cell value:\n",
    "        34 86 45 56\n",
    "        12 23 45 67\n",
    "    Expected Output:\n",
    "        Input number of rows/columns (0 to exit)\n",
    "        2\n",
    "        Input cell value:\n",
    "        34 86 45 56\n",
    "        12 23 45 67\n",
    "        Result:\n",
    "        34   86   45\n",
    "        12   23   45\n",
    "        46  109   90\n",
    "        Input number of rows/columns (0 to exit)\n",
    "        0 '''\n",
    "while True:\n",
    "    n = int(input(\"Input number of rows/columns (0 to exit)\\n\"))\n",
    "    if n == 0:\n",
    "        break\n",
    "    print(\"Input cell value:\")\n",
    "    table = []\n",
    "    for _ in range(n):\n",
    "        row = list(map(int, input().split()))\n",
    "        table.append(row)\n",
    "    print(\"Result:\")\n",
    "    for row in table:\n",
    "        print('  '.join(str(x) for x in row))\n",
    "    col_sum = [sum(table[row][col] for row in range(n)) for col in range(len(table[0]))]\n",
    "    print('  '.join(str(x) for x in col_sum))\n",
    "        \n",
    "        \n",
    "        \n",
    "        "
   ]
  },
  {
   "cell_type": "code",
   "execution_count": 6,
   "metadata": {},
   "outputs": [
    {
     "name": "stdout",
     "output_type": "stream",
     "text": [
      "4\n",
      "8\n",
      "20\n"
     ]
    }
   ],
   "source": [
    "'''16. Write a Python program to calculate Euclid's totient function of a given integer. Use a primitive method to \n",
    "    calculate Euclid's totient function.\n",
    "    Data:\n",
    "        (10)\n",
    "        (15)\n",
    "        (33)\n",
    "    Expected Output:\n",
    "        4\n",
    "        8\n",
    "        20 '''\n",
    "def gcd(a, b):\n",
    "    while b:\n",
    "        a, b = b, a % b\n",
    "    return a\n",
    "\n",
    "def totient(n):\n",
    "    count = 0\n",
    "    for i in range(1, n):\n",
    "        if gcd(i, n) == 1:\n",
    "            count += 1\n",
    "    return count\n",
    "print(totient(10))  \n",
    "print(totient(15))  \n",
    "print(totient(33)) \n",
    "        \n",
    "        \n",
    "        \n",
    "        "
   ]
  },
  {
   "cell_type": "code",
   "execution_count": 4,
   "metadata": {},
   "outputs": [
    {
     "name": "stdout",
     "output_type": "stream",
     "text": [
      "True\n",
      "False\n",
      "False\n",
      "False\n"
     ]
    }
   ],
   "source": [
    "'''17. Write a Python program to check if two given numbers are coprime or not. Return True if two numbers are coprime \n",
    "    otherwise return false. Go to the editor\n",
    "    Data:\n",
    "        (17, 13)\n",
    "        (15, 21)\n",
    "        (25, 45)\n",
    "    Expected Output:\n",
    "        True\n",
    "        True\n",
    "        False\n",
    "        False '''\n",
    "\n",
    "import math\n",
    "\n",
    "def are_coprime(a, b):\n",
    "    return math.gcd(a, b) == 1\n",
    "\n",
    "# Test cases\n",
    "print(are_coprime(17, 13))  \n",
    "print(are_coprime(15, 21)) \n",
    "print(are_coprime(25, 45)) \n",
    "print(are_coprime(12, 18))  \n",
    "        \n",
    "        \n",
    "        \n",
    "        "
   ]
  },
  {
   "cell_type": "code",
   "execution_count": 2,
   "metadata": {},
   "outputs": [
    {
     "name": "stdout",
     "output_type": "stream",
     "text": [
      "1\n",
      "2\n",
      "3\n",
      "4\n",
      "8\n",
      "7\n",
      "6\n",
      "5\n",
      "0\n",
      "6\n",
      "2\n",
      "8\n",
      "2\n",
      "0\n",
      "3\n",
      "2\n"
     ]
    }
   ],
   "source": [
    "'''18. Write a Python program to print a given N by M matrix of numbers line by line in forward > backwards > forward >... order.\n",
    "    Data:\n",
    "        Input matrix:\n",
    "            [[1, 2, 3,4],\n",
    "             [5, 6, 7, 8],\n",
    "             [0, 6, 2, 8],\n",
    "             [2, 3, 0, 2]]\n",
    "    Expected Output:\n",
    "        1\n",
    "        2\n",
    "        3\n",
    "        4\n",
    "        8\n",
    "        7\n",
    "        6\n",
    "        5\n",
    "        0\n",
    "        6\n",
    "        2\n",
    "        8\n",
    "        2\n",
    "        0\n",
    "        3\n",
    "        2 '''\n",
    "matrix = [\n",
    "    [1, 2, 3, 4],\n",
    "    [5, 6, 7, 8],\n",
    "    [0, 6, 2, 8],\n",
    "    [2, 3, 0, 2]\n",
    "]\n",
    "\n",
    "for i, row in enumerate(matrix):\n",
    "    if i % 2 == 0:\n",
    "        # Forward order\n",
    "        for num in row:\n",
    "            print(num)\n",
    "    else:\n",
    "        # Backward order\n",
    "        for num in reversed(row):\n",
    "            print(num)      \n",
    "        \n",
    "        \n",
    "        "
   ]
  },
  {
   "cell_type": "code",
   "execution_count": 1,
   "metadata": {},
   "outputs": [
    {
     "name": "stdout",
     "output_type": "stream",
     "text": [
      "6\n",
      "0\n",
      "5\n",
      "0\n"
     ]
    }
   ],
   "source": [
    "'''19. Write a Python program to remove all instances of a given value from a given array of integers and find the length of \n",
    "    the new array.\n",
    "    Data:\n",
    "        ([1, 2, 3, 4, 5, 6, 7, 5], 5)\n",
    "        ([10,10,10,10,10], 10)\n",
    "        ([10,10,10,10,10], 20)\n",
    "        ([], 1)\n",
    "    Expected Output:\n",
    "        6\n",
    "        0\n",
    "        5\n",
    "        0 '''\n",
    "\n",
    "def remove_and_length(arr, val):\n",
    "    new_arr = [x for x in arr if x != val]\n",
    "    return len(new_arr)\n",
    "\n",
    "print(remove_and_length([1, 2, 3, 4, 5, 6, 7, 5], 5))    # Output: 6\n",
    "print(remove_and_length([10,10,10,10,10], 10))           # Output: 0\n",
    "print(remove_and_length([10,10,10,10,10], 20))           # Output: 5\n",
    "print(remove_and_length([], 1))    \n",
    "        \n",
    "        \n",
    "        \n",
    "        "
   ]
  },
  {
   "cell_type": "code",
   "execution_count": null,
   "metadata": {},
   "outputs": [],
   "source": []
  }
 ],
 "metadata": {
  "kernelspec": {
   "display_name": "Python 3 (ipykernel)",
   "language": "python",
   "name": "python3"
  },
  "language_info": {
   "codemirror_mode": {
    "name": "ipython",
    "version": 3
   },
   "file_extension": ".py",
   "mimetype": "text/x-python",
   "name": "python",
   "nbconvert_exporter": "python",
   "pygments_lexer": "ipython3",
   "version": "3.12.7"
  }
 },
 "nbformat": 4,
 "nbformat_minor": 4
}
