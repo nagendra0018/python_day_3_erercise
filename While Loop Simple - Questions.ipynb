{
 "cells": [
  {
   "cell_type": "markdown",
   "metadata": {},
   "source": [
    "# While Loop Simple Questions"
   ]
  },
  {
   "cell_type": "code",
   "execution_count": 1,
   "metadata": {},
   "outputs": [
    {
     "name": "stdout",
     "output_type": "stream",
     "text": [
      "5\n",
      "4\n",
      "3\n",
      "2\n",
      "1\n"
     ]
    }
   ],
   "source": [
    "'''1. Write a python program to pop() elements until the list has elements using while loop.\n",
    "    Data:\n",
    "        a = [1,2,3,4,5]\n",
    "    Expected output:\n",
    "        5\n",
    "        4\n",
    "        3\n",
    "        2\n",
    "        1 '''\n",
    "a = [1, 2, 3, 4, 5]\n",
    "\n",
    "while a:\n",
    "    print(a.pop())\n",
    "        \n",
    "        \n",
    "        \n",
    "        \n",
    "        "
   ]
  },
  {
   "cell_type": "code",
   "execution_count": 2,
   "metadata": {},
   "outputs": [
    {
     "name": "stdout",
     "output_type": "stream",
     "text": [
      "10\n",
      "9\n",
      "8\n",
      "7\n",
      "loop is finished\n"
     ]
    }
   ],
   "source": [
    "'''2. Write a simple python program to demonstrate a while loop with else block.\n",
    "    Data:\n",
    "        x = 10\n",
    "    Expected output:\n",
    "        10\n",
    "        9\n",
    "        8\n",
    "        7\n",
    "        loop is finished '''\n",
    "x = 10\n",
    "\n",
    "while x > 6:\n",
    "    print(x)\n",
    "    x -= 1\n",
    "else:\n",
    "    print(\"loop is finished\")\n",
    "        \n",
    "        \n",
    "        \n",
    "        "
   ]
  },
  {
   "cell_type": "code",
   "execution_count": 3,
   "metadata": {},
   "outputs": [
    {
     "name": "stdout",
     "output_type": "stream",
     "text": [
      "1\n",
      "2\n",
      "3\n",
      "4\n",
      "5\n"
     ]
    }
   ],
   "source": [
    "'''3. write a python program to print x as long as x is less than 6, using while loop.\n",
    "    Data:\n",
    "        x = 1\n",
    "    Expected output:\n",
    "        1\n",
    "        2\n",
    "        3\n",
    "        4\n",
    "        5 '''\n",
    "\n",
    "x = 1\n",
    "\n",
    "while x < 6:\n",
    "    print(x)\n",
    "    x += 1\n",
    "    \n",
    "    \n",
    "    "
   ]
  },
  {
   "cell_type": "code",
   "execution_count": 4,
   "metadata": {},
   "outputs": [
    {
     "name": "stdout",
     "output_type": "stream",
     "text": [
      "5\n",
      "4\n",
      "3\n",
      "2\n",
      "1\n",
      "0\n"
     ]
    }
   ],
   "source": [
    "'''4. Write a python program to check if list still contains any element using while loop and pop().\n",
    "    Data:\n",
    "        x = [0,1,2,3,4,5]\n",
    "    Expected output:\n",
    "        5\n",
    "        4\n",
    "        3\n",
    "        2\n",
    "        1\n",
    "        0 '''\n",
    "x = [0, 1, 2, 3, 4, 5]\n",
    "\n",
    "while x:\n",
    "    print(x.pop())\n",
    "        \n",
    "        \n",
    "        \n",
    "        "
   ]
  },
  {
   "cell_type": "code",
   "execution_count": 5,
   "metadata": {},
   "outputs": [
    {
     "name": "stdout",
     "output_type": "stream",
     "text": [
      "* \n",
      "* * \n",
      "* * * \n",
      "* * * * \n"
     ]
    }
   ],
   "source": [
    "'''5. Write a python program to print the following pattern using while loop.\n",
    "    Expected output:\n",
    "    *\n",
    "    * * \n",
    "    * * * \n",
    "    * * * * '''\n",
    "i = 1\n",
    "while i <= 4:\n",
    "    print('* ' * i)\n",
    "    i += 1\n",
    "    \n",
    "    \n",
    "    \n",
    "    "
   ]
  },
  {
   "cell_type": "code",
   "execution_count": 6,
   "metadata": {},
   "outputs": [
    {
     "name": "stdout",
     "output_type": "stream",
     "text": [
      "24 48 72 96 120 144 168 192 216 240 "
     ]
    }
   ],
   "source": [
    "'''6. Write a python program to print multiplication table of 24 using while loop.\n",
    "    Data:\n",
    "        24\n",
    "    Expected output:\n",
    "        24 48 72 96 120 144 168 192 216 240 '''\n",
    "num = 24\n",
    "i = 1\n",
    "\n",
    "while i <= 10:\n",
    "    print(num * i, end=' ')\n",
    "    i += 1\n",
    "        \n",
    "        \n",
    "        \n",
    "        "
   ]
  },
  {
   "cell_type": "code",
   "execution_count": 7,
   "metadata": {},
   "outputs": [
    {
     "name": "stdout",
     "output_type": "stream",
     "text": [
      "0 1 2 3 4 5 6 7 8 9 10 "
     ]
    }
   ],
   "source": [
    "'''7. Write a python program to print first 10 natural numbers using while loop.\n",
    "    Data:\n",
    "        10\n",
    "    Expected output:\n",
    "        0 1 2 3 4 5 6 7 8 9 10  '''\n",
    "n = 0\n",
    "while n <= 10:\n",
    "    print(n, end=' ')\n",
    "    n += 1\n",
    "        \n",
    "        \n",
    "        "
   ]
  },
  {
   "cell_type": "code",
   "execution_count": 8,
   "metadata": {},
   "outputs": [
    {
     "name": "stdout",
     "output_type": "stream",
     "text": [
      "1\n",
      "1\n",
      "2\n",
      "3\n",
      "5\n",
      "8\n",
      "13\n",
      "21\n",
      "34\n"
     ]
    }
   ],
   "source": [
    "'''8. Write a python program to get the fibonacci series between 0 to 50.\n",
    "    Data:\n",
    "        x,y = 0,1\n",
    "    Expected output:\n",
    "        1\n",
    "        1\n",
    "        2\n",
    "        3\n",
    "        5\n",
    "        8\n",
    "        13\n",
    "        21\n",
    "        34 '''\n",
    "x, y = 0, 1\n",
    "\n",
    "while y < 50:\n",
    "    print(y)\n",
    "    x, y = y, x + y\n",
    "        \n",
    "        "
   ]
  },
  {
   "cell_type": "code",
   "execution_count": 9,
   "metadata": {},
   "outputs": [
    {
     "name": "stdout",
     "output_type": "stream",
     "text": [
      "1\n",
      "22\n",
      "333\n",
      "4444\n",
      "55555\n",
      "666666\n",
      "7777777\n",
      "88888888\n",
      "999999999\n"
     ]
    }
   ],
   "source": [
    "'''9. Write a python program to construct the following pattern.\n",
    "    Expected output:\n",
    "        1\n",
    "        22\n",
    "        333\n",
    "        4444\n",
    "        55555\n",
    "        666666\n",
    "        7777777\n",
    "        88888888\n",
    "        999999999 '''\n",
    "\n",
    "for i in range(1, 10):\n",
    "    print(str(i) * i)\n",
    "        \n",
    "        "
   ]
  },
  {
   "cell_type": "code",
   "execution_count": 10,
   "metadata": {},
   "outputs": [
    {
     "name": "stdout",
     "output_type": "stream",
     "text": [
      "The sum is 15\n"
     ]
    }
   ],
   "source": [
    "'''10. Write a python program to add natural number up to sum = 1+2+3+.....+n\n",
    "    Expected output:\n",
    "        The sum is  15 '''\n",
    "n = 5 \n",
    "sum = 0\n",
    "i = 1\n",
    "while i <= n:\n",
    "    sum += i\n",
    "    i += 1\n",
    "print(\"The sum is\", sum)\n",
    "            \n",
    "            \n",
    "            \n",
    "            "
   ]
  },
  {
   "cell_type": "code",
   "execution_count": 11,
   "metadata": {},
   "outputs": [
    {
     "name": "stdout",
     "output_type": "stream",
     "text": [
      "Inside loop\n",
      "Inside loop\n",
      "Inside loop\n",
      "Inside else\n"
     ]
    }
   ],
   "source": [
    "'''11. Write a python program to illustrate the working of while loop with else statement.\n",
    "    Expected output:\n",
    "        Inside loop\n",
    "        Inside loop\n",
    "        Inside loop\n",
    "        Inside else '''\n",
    "i = 0\n",
    "while i < 3:\n",
    "    print(\"Inside loop\")\n",
    "    i += 1\n",
    "else:\n",
    "    print(\"Inside else\")\n",
    "        \n",
    "        \n",
    "        \n",
    "        "
   ]
  },
  {
   "cell_type": "code",
   "execution_count": 12,
   "metadata": {},
   "outputs": [
    {
     "name": "stdout",
     "output_type": "stream",
     "text": [
      "1 , 3\n",
      "2 , 4\n",
      "3 , 5\n",
      "4 , 6\n",
      "5 , 7\n"
     ]
    }
   ],
   "source": [
    "'''12. Write a simple python program to illustrate the working of nested while loop using given data.\n",
    "    Data:\n",
    "        i = 1\n",
    "        j = 3\n",
    "    Expected output:\n",
    "        1 , 3\n",
    "        2 , 4\n",
    "        3 , 5\n",
    "        4 , 6\n",
    "        5 , 7 '''\n",
    "i = 1\n",
    "j = 3\n",
    "\n",
    "while i <= 5:\n",
    "    print(i, \",\", j)\n",
    "    i += 1\n",
    "    j += 1    \n",
    "        \n",
    "        \n",
    "        "
   ]
  },
  {
   "cell_type": "code",
   "execution_count": 14,
   "metadata": {},
   "outputs": [
    {
     "name": "stdout",
     "output_type": "stream",
     "text": [
      "5\n",
      "11\n"
     ]
    }
   ],
   "source": [
    "'''13. Write a Python program to print the following output from given data using while loop.\n",
    "    Data:\n",
    "        n = 7, c = 0\n",
    "    Expected output:\n",
    "        5\n",
    "        11 '''\n",
    "n = 7\n",
    "c = 0\n",
    "\n",
    "while c < n:\n",
    "    if c == 0 or c == n - 1:\n",
    "        print(c + n - 2)\n",
    "    c += 1\n",
    "        \n",
    "        \n",
    "        "
   ]
  },
  {
   "cell_type": "code",
   "execution_count": 15,
   "metadata": {},
   "outputs": [
    {
     "name": "stdout",
     "output_type": "stream",
     "text": [
      "1\n",
      "2\n",
      "3\n"
     ]
    }
   ],
   "source": [
    "'''14. Write a python program to exit the loop when x is 3, using break statement in a while loop.\n",
    "    Data:\n",
    "        x = 1\n",
    "    Expected output:\n",
    "        1\n",
    "        2\n",
    "        3 '''\n",
    "x = 1\n",
    "\n",
    "while True:\n",
    "    print(x)\n",
    "    if x == 3:\n",
    "        break\n",
    "    x += 1\n",
    "        \n",
    "        \n",
    "        "
   ]
  },
  {
   "cell_type": "code",
   "execution_count": 16,
   "metadata": {},
   "outputs": [
    {
     "name": "stdout",
     "output_type": "stream",
     "text": [
      "1\n",
      "2\n",
      "4\n",
      "5\n",
      "6\n"
     ]
    }
   ],
   "source": [
    "'''15. Write a python program to continue the next iteration if x is 3.\n",
    "    Data:\n",
    "        x = 0\n",
    "    Expected output:\n",
    "        1\n",
    "        2\n",
    "        4\n",
    "        5\n",
    "        6 '''\n",
    "x = 0\n",
    "\n",
    "while x < 6:\n",
    "    x += 1\n",
    "    if x == 3:\n",
    "        continue\n",
    "    print(x)\n",
    "        \n",
    "        \n",
    "        \n",
    "        "
   ]
  },
  {
   "cell_type": "code",
   "execution_count": 17,
   "metadata": {},
   "outputs": [
    {
     "name": "stdout",
     "output_type": "stream",
     "text": [
      "1\n",
      "2\n",
      "3\n",
      "4\n",
      "5\n",
      "x is no longer less than 6\n"
     ]
    }
   ],
   "source": [
    "'''16. Write a python program to print a message once the while condition is false.\n",
    "    Data:\n",
    "        x = 1\n",
    "    Expeccted output:\n",
    "        1\n",
    "        2\n",
    "        3\n",
    "        4\n",
    "        5\n",
    "        x is no longer less than 6 '''\n",
    "\n",
    "x = 1\n",
    "\n",
    "while x < 6:\n",
    "    print(x)\n",
    "    x += 1\n",
    "else:\n",
    "    print(\"x is no longer less than 6\")\n",
    "        \n",
    "        \n",
    "        \n",
    "        "
   ]
  },
  {
   "cell_type": "code",
   "execution_count": 18,
   "metadata": {},
   "outputs": [
    {
     "name": "stdout",
     "output_type": "stream",
     "text": [
      "Hello Words\n",
      "Hello Words\n",
      "Hello Words\n"
     ]
    }
   ],
   "source": [
    "'''17. Write a python program to illustrate a simple while loop.\n",
    "    Data:\n",
    "        Hello Words\n",
    "    Expected output:\n",
    "        Hello Words\n",
    "        Hello Words\n",
    "        Hello Words '''\n",
    "\n",
    "count = 0\n",
    "while count < 3:\n",
    "    print(\"Hello Words\")\n",
    "    count += 1\n",
    "        \n",
    "        \n",
    "        \n",
    "        "
   ]
  },
  {
   "cell_type": "code",
   "execution_count": 20,
   "metadata": {},
   "outputs": [
    {
     "name": "stdout",
     "output_type": "stream",
     "text": [
      "Value of y:  11\n"
     ]
    }
   ],
   "source": [
    "'''18. Write a python program to use pass statement in a while loop.\n",
    "    Data:\n",
    "        x = \"jackforjack\"\n",
    "        y = 0\n",
    "    Expected output:\n",
    "        Value of y:  11'''\n",
    "x = \"jackforjack\"\n",
    "y = 0\n",
    "\n",
    "while y < len(x):\n",
    "    pass\n",
    "    y += 1\n",
    "\n",
    "print(\"Value of y: \", y)\n",
    "            \n",
    "            \n",
    "            \n",
    "            "
   ]
  },
  {
   "cell_type": "code",
   "execution_count": 23,
   "metadata": {},
   "outputs": [
    {
     "name": "stdout",
     "output_type": "stream",
     "text": [
      "1\n",
      "2\n",
      "3\n",
      "4\n",
      "Good bye\n"
     ]
    }
   ],
   "source": [
    "'''19. Write a python program to demonstrate while-else loop.\n",
    "    Data:\n",
    "        x = 0\n",
    "    Expected output:\n",
    "        1\n",
    "        2\n",
    "        3\n",
    "        4\n",
    "        Good bye '''\n",
    "\n",
    "x = 0\n",
    "\n",
    "while x < 4:\n",
    "    x += 1\n",
    "    print(x)\n",
    "else:\n",
    "    print(\"Good bye\")\n",
    "        \n",
    "        \n",
    "        "
   ]
  },
  {
   "cell_type": "code",
   "execution_count": 24,
   "metadata": {},
   "outputs": [
    {
     "name": "stdout",
     "output_type": "stream",
     "text": [
      "5 * 1 = 5\n",
      "5 * 2 = 10\n",
      "5 * 3 = 15\n",
      "5 * 4 = 20\n",
      "5 * 5 = 25\n",
      "5 * 6 = 30\n",
      "5 * 7 = 35\n",
      "5 * 8 = 40\n",
      "5 * 9 = 45\n",
      "5 * 10 = 50\n"
     ]
    }
   ],
   "source": [
    "'''20. Write a Python program to print multiplication table of 5 using while loop.\n",
    "    Expected output:\n",
    "        5 * 1 = 5\n",
    "        5 * 2 = 10\n",
    "        5 * 3 = 15\n",
    "        5 * 4 = 20\n",
    "        5 * 5 = 25\n",
    "        5 * 6 = 30\n",
    "        5 * 7 = 35\n",
    "        5 * 8 = 40\n",
    "        5 * 9 = 45\n",
    "        5 * 10 = 50 '''\n",
    "num = 5\n",
    "i = 1\n",
    "\n",
    "while i <= 10:\n",
    "    print(f\"{num} * {i} = {num * i}\")\n",
    "    i += 1\n",
    "        \n",
    "        \n",
    "        "
   ]
  },
  {
   "cell_type": "code",
   "execution_count": null,
   "metadata": {},
   "outputs": [],
   "source": []
  }
 ],
 "metadata": {
  "kernelspec": {
   "display_name": "Python 3 (ipykernel)",
   "language": "python",
   "name": "python3"
  },
  "language_info": {
   "codemirror_mode": {
    "name": "ipython",
    "version": 3
   },
   "file_extension": ".py",
   "mimetype": "text/x-python",
   "name": "python",
   "nbconvert_exporter": "python",
   "pygments_lexer": "ipython3",
   "version": "3.12.7"
  }
 },
 "nbformat": 4,
 "nbformat_minor": 4
}
