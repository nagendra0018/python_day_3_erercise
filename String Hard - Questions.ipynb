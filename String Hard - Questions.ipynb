{
 "cells": [
  {
   "cell_type": "markdown",
   "metadata": {},
   "source": [
    "# String Hard Questions"
   ]
  },
  {
   "cell_type": "code",
   "execution_count": 2,
   "metadata": {},
   "outputs": [
    {
     "name": "stdout",
     "output_type": "stream",
     "text": [
      "a\n",
      "None\n"
     ]
    }
   ],
   "source": [
    "'''1. Write a Python program to find the first repeated character in a given string.\n",
    "    Data:\n",
    "        \"abcdabcd\"\n",
    "        \"abcd\"\n",
    "    Expected Output:\n",
    "        a\n",
    "        None'''\n",
    "def first_repeated_char(s):\n",
    "    seen = set()\n",
    "    for char in s:\n",
    "        if char in seen:\n",
    "            return char\n",
    "        seen.add(char)\n",
    "    return None\n",
    "\n",
    "print(first_repeated_char(\"abcdabcd\"))  \n",
    "print(first_repeated_char(\"abcd\"))      \n",
    "        \n",
    "        \n",
    "        \n",
    "        "
   ]
  },
  {
   "cell_type": "code",
   "execution_count": 3,
   "metadata": {},
   "outputs": [
    {
     "name": "stdout",
     "output_type": "stream",
     "text": [
      "('a', 0)\n",
      "('b', 1)\n",
      "('c', 2)\n",
      "('x', 3)\n",
      "None\n"
     ]
    }
   ],
   "source": [
    "'''2. Write a Python program to find the first repeated character of a given string where the index of first occurrence is smallest.\n",
    "    Data:\n",
    "        \"abcabc\"\n",
    "        \"abcb\"\n",
    "        \"abcc\"\n",
    "        \"abcxxy\"\n",
    "        \"abc\"\n",
    "    Expected Output:\n",
    "        ('a', 0) \n",
    "        ('b', 1)\n",
    "        ('c', 2)\n",
    "        ('x', 3)\n",
    "        None '''\n",
    "\n",
    "def first_repeated_char_with_index(s):\n",
    "    first_indices = {}\n",
    "    repeated = set()\n",
    "    for idx, char in enumerate(s):\n",
    "        if char in first_indices:\n",
    "            repeated.add(char)\n",
    "        else:\n",
    "            first_indices[char] = idx\n",
    "    if not repeated:\n",
    "        return None\n",
    "    min_index = len(s)\n",
    "    result_char = None\n",
    "    for char in repeated:\n",
    "        if first_indices[char] < min_index:\n",
    "            min_index = first_indices[char]\n",
    "            result_char = char\n",
    "    return (result_char, min_index)\n",
    "print(first_repeated_char_with_index(\"abcabc\"))  \n",
    "print(first_repeated_char_with_index(\"abcb\"))    \n",
    "print(first_repeated_char_with_index(\"abcc\"))    \n",
    "print(first_repeated_char_with_index(\"abcxxy\"))  \n",
    "print(first_repeated_char_with_index(\"abc\"))     \n",
    "        \n",
    "        \n",
    "        \n",
    "        "
   ]
  },
  {
   "cell_type": "code",
   "execution_count": 4,
   "metadata": {},
   "outputs": [
    {
     "name": "stdout",
     "output_type": "stream",
     "text": [
      "('of', 4)\n"
     ]
    }
   ],
   "source": [
    "'''3. Write a Python program to find the second most repeated word in a given string.\n",
    "    Data:\n",
    "        x = (\"\"\"\"Both of these issues are fixed by postponing the evaluation of annotations. \n",
    "        Instead of compiling code which executes expressions in annotations at their definition time, the compiler stores the \n",
    "        annotation in a string form equivalent to the AST of the expression in question. If needed, \n",
    "        annotations can be resolved at runtime using typing.get_type_hints(). \n",
    "        In the common case where this is not required, \n",
    "        the annotations are cheaper to store (since short strings are interned by the interpreter) \n",
    "        and make startup time faster.\"\"\"\")\n",
    "    Expected Output:\n",
    "                ('of', 4) '''\n",
    "import string\n",
    "from collections import Counter\n",
    "\n",
    "x = (\"\"\"Both of these issues are fixed by postponing the evaluation of annotations. \n",
    "Instead of compiling code which executes expressions in annotations at their definition time, the compiler stores the \n",
    "annotation in a string form equivalent to the AST of the expression in question. If needed, \n",
    "annotations can be resolved at runtime using typing.get_type_hints(). \n",
    "In the common case where this is not required, \n",
    "the annotations are cheaper to store (since short strings are interned by the interpreter) \n",
    "and make startup time faster.\"\"\")\n",
    "\n",
    "x_clean = x.lower().translate(str.maketrans('', '', string.punctuation))\n",
    "words = x_clean.split()\n",
    "counts = Counter(words)\n",
    "most_common = counts.most_common(2)\n",
    "second_most = most_common[1]\n",
    "print(second_most)\n",
    "             \n",
    "             \n",
    "             \n",
    "             "
   ]
  },
  {
   "cell_type": "code",
   "execution_count": 10,
   "metadata": {},
   "outputs": [
    {
     "name": "stdout",
     "output_type": "stream",
     "text": [
      "t\n",
      "b\n"
     ]
    }
   ],
   "source": [
    "'''4. Write a Python program to find the maximum occurring character in a given string.\n",
    "    Data:\n",
    "        \"Python: Get file creation and modification date/times\"\n",
    "        \"abcdefghijkb\"\n",
    "    Expected Output:\n",
    "        t\n",
    "        b '''\n",
    "\n",
    "from collections import Counter\n",
    "\n",
    "def max_occurring_char(s):\n",
    "    counts = Counter(s)\n",
    "    max_count = max(counts.values())\n",
    "    for char in s:\n",
    "        if counts[char] == max_count:\n",
    "            return char\n",
    "data = [\n",
    "    \"Python: Get file creation and modification date/times\",\n",
    "    \"abcdefghijkb\"\n",
    "]\n",
    "\n",
    "for s in data:\n",
    "    print(max_occurring_char(s))\n",
    "        \n",
    "        \n",
    "        \n",
    "        "
   ]
  },
  {
   "cell_type": "code",
   "execution_count": 11,
   "metadata": {},
   "outputs": [
    {
     "name": "stdout",
     "output_type": "stream",
     "text": [
      "PythoN ExerciseS PracticE SolutioN\n",
      "AidinasauR\n"
     ]
    }
   ],
   "source": [
    "'''5. Write a Python program to capitalize first and last letters of each word of a given string.\n",
    "    Data:\n",
    "        \"python exercises practice solution\"\n",
    "        \"aidinasaur\"\n",
    "    Expected Output:\n",
    "        PythoN ExerciseS PracticE SolutioN\n",
    "        AidinasauR '''\n",
    "\n",
    "def capitalize_first_last(s):\n",
    "    words = s.split()\n",
    "    result = []\n",
    "    for word in words:\n",
    "        if len(word) == 1:\n",
    "            result.append(word.upper())\n",
    "        else:\n",
    "            result.append(word[0].upper() + word[1:-1] + word[-1].upper())\n",
    "    return ' '.join(result)\n",
    "    \n",
    "data = [\n",
    "    \"python exercises practice solution\",\n",
    "    \"aidinasaur\"\n",
    "]\n",
    "\n",
    "for s in data:\n",
    "    print(capitalize_first_last(s))\n",
    "        \n",
    "        \n",
    "        \n",
    "        "
   ]
  },
  {
   "cell_type": "code",
   "execution_count": 12,
   "metadata": {},
   "outputs": [
    {
     "name": "stdout",
     "output_type": "stream",
     "text": [
      "15\n",
      "10\n"
     ]
    }
   ],
   "source": [
    "'''6. Write a Python program to compute sum of digits of a given string.\n",
    "    Data:\n",
    "        \"123abcd45\"\n",
    "        \"abcd1234\"\n",
    "    Expected Output:\n",
    "        15\n",
    "        10'''\n",
    "def sum_of_digits(s):\n",
    "    return sum(int(ch) for ch in s if ch.isdigit())\n",
    "\n",
    "data = [\n",
    "    \"123abcd45\",\n",
    "    \"abcd1234\"\n",
    "]\n",
    "\n",
    "for s in data:\n",
    "    print(sum_of_digits(s))\n",
    "        \n",
    "        \n",
    "        "
   ]
  },
  {
   "cell_type": "code",
   "execution_count": 13,
   "metadata": {},
   "outputs": [
    {
     "name": "stdout",
     "output_type": "stream",
     "text": [
      "Maximum length of consecutive 0’s:\n",
      "4\n",
      "Maximum length of consecutive 0’s:\n",
      "3\n"
     ]
    }
   ],
   "source": [
    "'''7. Write a Python program to find maximum length of consecutive 0's in a given binary string.\n",
    "    Data:\n",
    "        Original string:\n",
    "        111000010000110\n",
    "        111000111\n",
    "    Expected Output:\n",
    "        Maximum length of consecutive 0’s:\n",
    "        4\n",
    "        Maximum length of consecutive 0’s:\n",
    "        3 '''\n",
    "def max_consecutive_zeros(s):\n",
    "    return max((len(group) for group in s.split('1')), default=0)\n",
    "\n",
    "data = [\n",
    "    \"111000010000110\",\n",
    "    \"111000111\"\n",
    "]\n",
    "\n",
    "for s in data:\n",
    "    print(\"Maximum length of consecutive 0’s:\")\n",
    "    print(max_consecutive_zeros(s))\n",
    "\n",
    "        \n",
    "        \n",
    "        "
   ]
  },
  {
   "cell_type": "code",
   "execution_count": 14,
   "metadata": {},
   "outputs": [
    {
     "name": "stdout",
     "output_type": "stream",
     "text": [
      "Two strings: Python : PHP\n",
      "P\n",
      "Two strings: Java : PHP\n",
      "No common characters.\n"
     ]
    }
   ],
   "source": [
    "'''8. Write a Python program to find all the common characters in lexicographical order from two given lower case strings. \n",
    "   If there are no common letters print \"No common characters\".\n",
    "    Data:\n",
    "        Two strings: Python : PHP\n",
    "        Two strings: Java : PHP\n",
    "    Expected Output:\n",
    "        P\n",
    "        No common characters. '''\n",
    "\n",
    "def common_characters(s1, s2):\n",
    "    set1 = set(s1)\n",
    "    set2 = set(s2)\n",
    "    common = sorted(set1 & set2)\n",
    "    if common:\n",
    "        print(''.join(common))\n",
    "    else:\n",
    "        print(\"No common characters.\")\n",
    "\n",
    "\n",
    "print(\"Two strings: Python : PHP\")\n",
    "common_characters(\"Python\", \"PHP\")\n",
    "print(\"Two strings: Java : PHP\")\n",
    "common_characters(\"Java\", \"PHP\")\n",
    "        \n",
    "        \n",
    "        \n",
    "        "
   ]
  },
  {
   "cell_type": "code",
   "execution_count": 24,
   "metadata": {},
   "outputs": [
    {
     "name": "stdout",
     "output_type": "stream",
     "text": [
      "9\n"
     ]
    }
   ],
   "source": [
    "'''9. Write a Python program to make two given strings (lower case, may or may not be of the same length) \n",
    "   anagrams removing any characters from any of the strings.\n",
    "    Data:\n",
    "        \"marvelboss gaming\"\n",
    "        \"marvelboss timepss\"\n",
    "    Expected Output:\n",
    "        9 '''\n",
    "from collections import Counter\n",
    "\n",
    "def min_removals_to_make_anagrams(s1, s2):\n",
    "    c1 = Counter(s1.replace(\" \", \"\")) \n",
    "    c2 = Counter(s2.replace(\" \", \"\"))\n",
    "    all_chars = set(c1.keys()).union(c2.keys())\n",
    "    removals = sum(abs(c1[char] - c2[char]) for char in all_chars)\n",
    "    return removals\n",
    "\n",
    "s1 = \"marvelboss gaming\"\n",
    "s2 = \"marvelboss timepss\"\n",
    "print(min_removals_to_make_anagrams(s1, s2))\n",
    "        \n",
    "        \n",
    "        "
   ]
  },
  {
   "cell_type": "code",
   "execution_count": 23,
   "metadata": {},
   "outputs": [
    {
     "name": "stdout",
     "output_type": "stream",
     "text": [
      "After removing consecutive duplicates of xxxxxyyyyy: xy\n"
     ]
    }
   ],
   "source": [
    "'''10. Write a Python program to remove all consecutive duplicates of a given string.\n",
    "    Data:\n",
    "        str1 = 'xxxxxyyyyy'\n",
    "    Expected Output:\n",
    "        After removing consecutive duplicates: xxxxxyyyyy\n",
    "        xy '''\n",
    "def remove_consecutive_duplicates(s):\n",
    "    if not s:\n",
    "        return \"\"\n",
    "    result = [s[0]]  \n",
    "    for char in s[1:]:\n",
    "        if char != result[-1]:\n",
    "            result.append(char)\n",
    "    return ''.join(result)\n",
    "\n",
    "str1 = 'xxxxxyyyyy'\n",
    "print(\"After removing consecutive duplicates of xxxxxyyyyy:\", remove_consecutive_duplicates(str1))\n",
    "        \n",
    "        \n",
    "        \n",
    "        "
   ]
  },
  {
   "cell_type": "code",
   "execution_count": 19,
   "metadata": {},
   "outputs": [
    {
     "name": "stdout",
     "output_type": "stream",
     "text": [
      "Common longest sub string:\n",
      "abcd\n"
     ]
    }
   ],
   "source": [
    "'''11. Write a Python program to find the longest common sub-string from two given strings.\n",
    "    Data:\n",
    "        Original Substrings:\n",
    "        abcdefgh\n",
    "        xswerabcdwd\n",
    "    Expected Output:\n",
    "        Common longest sub string:\n",
    "        abcd'''\n",
    "\n",
    "def longest_common_substring(str1, str2):\n",
    "    m, n = len(str1), len(str2)\n",
    "    max_len = 0\n",
    "    ending_index = 0\n",
    "    dp = [[0] * (n + 1) for _ in range(m + 1)]\n",
    "\n",
    "    for i in range(1, m + 1):\n",
    "        for j in range(1, n + 1):\n",
    "            if str1[i - 1] == str2[j - 1]:\n",
    "                dp[i][j] = dp[i - 1][j - 1] + 1\n",
    "                if dp[i][j] > max_len:\n",
    "                    max_len = dp[i][j]\n",
    "                    ending_index = i\n",
    "    return str1[ending_index - max_len: ending_index]\n",
    "\n",
    "s1 = \"abcdefgh\"\n",
    "s2 = \"xswerabcdwd\"\n",
    "result = longest_common_substring(s1, s2)\n",
    "print(\"Common longest sub string:\")\n",
    "print(result)\n",
    "        \n",
    "        \n",
    "        "
   ]
  },
  {
   "cell_type": "code",
   "execution_count": 18,
   "metadata": {},
   "outputs": [
    {
     "name": "stdout",
     "output_type": "stream",
     "text": [
      "After moving all spaces to the front:\n",
      " PythonExercises\n"
     ]
    }
   ],
   "source": [
    "'''12. Write a Python program to move all spaces to the front of a given string in single traversal.\n",
    "    Data:\n",
    "        Original String:\n",
    "        Python Exercises\n",
    "    Expected Output:\n",
    "        After moving all spaces to the front:\n",
    "        PythonExercises  '''\n",
    "\n",
    "def move_spaces_to_front(s):\n",
    "    space_count = 0\n",
    "    chars = []\n",
    "    for char in s:\n",
    "        if char == ' ':\n",
    "            space_count += 1\n",
    "        else:\n",
    "            chars.append(char)\n",
    "    return ' ' * space_count + ''.join(chars)\n",
    "\n",
    "original = \"Python Exercises\"\n",
    "print(\"After moving all spaces to the front:\")\n",
    "print(move_spaces_to_front(original))\n",
    "        \n",
    "        \n",
    "        \n",
    "        "
   ]
  },
  {
   "cell_type": "code",
   "execution_count": 17,
   "metadata": {},
   "outputs": [
    {
     "name": "stdout",
     "output_type": "stream",
     "text": [
      "Remove all characters except P in the said string:\n",
      "P\n",
      "Remove all characters except g in the said string:\n",
      "gg\n",
      "Remove all characters except e in the said string:\n",
      "eee\n"
     ]
    }
   ],
   "source": [
    "'''13. Write a Python code to remove all characters except a specified character in a given string. \n",
    "    Data:\n",
    "        Original string\n",
    "        \"Python Exercises\"\n",
    "        \"google\"\n",
    "        \"exercises\"\n",
    "    Expected Output:\n",
    "        Remove all characters except P in the said string:\n",
    "        P\n",
    "        Remove all characters except g in the said string:\n",
    "        gg\n",
    "        Remove all characters except e in the said string:\n",
    "        eee'''\n",
    "def remove_except_char(s, ch):\n",
    "    return ''.join([c for c in s if c == ch])\n",
    "\n",
    "print(\"Remove all characters except P in the said string:\")\n",
    "print(remove_except_char(\"Python Exercises\", 'P'))\n",
    "\n",
    "print(\"Remove all characters except g in the said string:\")\n",
    "print(remove_except_char(\"google\", 'g'))\n",
    "\n",
    "print(\"Remove all characters except e in the said string:\")\n",
    "print(remove_except_char(\"exercises\", 'e'))\n",
    "        \n",
    "        \n",
    "        \n",
    "        "
   ]
  },
  {
   "cell_type": "code",
   "execution_count": 16,
   "metadata": {},
   "outputs": [
    {
     "name": "stdout",
     "output_type": "stream",
     "text": [
      "Upper case characters:  2\n",
      "Lower case characters:  11\n",
      "Number case:  0\n",
      "Special case characters:  2\n"
     ]
    }
   ],
   "source": [
    "'''14. Write a Python program to count Uppercase, Lowercase, special character and numeric values in a given string.\n",
    "    Data:\n",
    "        Original Substrings: @Aidinasaur.Com\n",
    "    Expected Output:\n",
    "        Upper case characters:  2\n",
    "        Lower case characters:  11\n",
    "        Number case:  0\n",
    "        Special case characters:  2'''\n",
    "s = \"@Aidinasaur.Com\"\n",
    "\n",
    "upper = lower = digit = special = 0\n",
    "\n",
    "for char in s:\n",
    "    if char.isupper():\n",
    "        upper += 1\n",
    "    elif char.islower():\n",
    "        lower += 1\n",
    "    elif char.isdigit():\n",
    "        digit += 1\n",
    "    else:\n",
    "        special += 1\n",
    "\n",
    "print(\"Upper case characters: \", upper)\n",
    "print(\"Lower case characters: \", lower)\n",
    "print(\"Number case: \", digit)\n",
    "print(\"Special case characters: \", special)\n",
    "            \n",
    "            \n",
    "            "
   ]
  },
  {
   "cell_type": "code",
   "execution_count": 15,
   "metadata": {},
   "outputs": [
    {
     "name": "stdout",
     "output_type": "stream",
     "text": [
      "Minimum window:\n",
      "SOERIU\n"
     ]
    }
   ],
   "source": [
    "'''15. Write a Python program to find the minimum window in a given string which will contain all\n",
    "    the characters of another given string.\n",
    "    Data:\n",
    "        Original Strings:\n",
    "        PRWSOERIUSFK \n",
    "        OSU\n",
    "    Expected Output:\n",
    "        Minimum window:\n",
    "        OERIUS '''\n",
    "\n",
    "from collections import Counter\n",
    "\n",
    "def min_window(s, t):\n",
    "    if not t or not s:\n",
    "        return \"\"\n",
    "    dict_t = Counter(t)\n",
    "    required = len(dict_t)\n",
    "    l, r = 0, 0\n",
    "    formed = 0\n",
    "    window_counts = {}\n",
    "    ans = float(\"inf\"), None, None \n",
    "\n",
    "    while r < len(s):\n",
    "        character = s[r]\n",
    "        window_counts[character] = window_counts.get(character, 0) + 1\n",
    "\n",
    "        if character in dict_t and window_counts[character] == dict_t[character]:\n",
    "            formed += 1\n",
    "\n",
    "        while l <= r and formed == required:\n",
    "            character = s[l]\n",
    "\n",
    "            # Save the smallest window\n",
    "            if r - l + 1 < ans[0]:\n",
    "                ans = (r - l + 1, l, r)\n",
    "\n",
    "            window_counts[character] -= 1\n",
    "            if character in dict_t and window_counts[character] < dict_t[character]:\n",
    "                formed -= 1\n",
    "\n",
    "            l += 1\n",
    "\n",
    "        r += 1\n",
    "\n",
    "    return \"\" if ans[0] == float(\"inf\") else s[ans[1]:ans[2]+1]\n",
    "\n",
    "s1 = \"PRWSOERIUSFK\"\n",
    "s2 = \"OSU\"\n",
    "\n",
    "result = min_window(s1, s2)\n",
    "print(\"Minimum window:\")\n",
    "print(result)\n",
    "        \n",
    "        \n",
    "        \n",
    "        "
   ]
  },
  {
   "cell_type": "code",
   "execution_count": 9,
   "metadata": {},
   "outputs": [
    {
     "name": "stdout",
     "output_type": "stream",
     "text": [
      "Original Strings:\n",
      "asdaewsqgtwwsa\n",
      "Smallest window that contains all characters of the said string:\n",
      "daewsqgt\n"
     ]
    }
   ],
   "source": [
    "'''16. Write a Python program to find smallest window that contains all characters of a given string.\n",
    "    Data:\n",
    "        Original Strings:\n",
    "        asdaewsqgtwwsa\n",
    "    Expected Output:\n",
    "        Smallest window that contains all characters of the said string:\n",
    "        daewsqgt '''\n",
    "\n",
    "def smallest_window(s):\n",
    "    from collections import Counter\n",
    "\n",
    "    n = len(s)\n",
    "    if n == 0:\n",
    "        return \"\"\n",
    "        \n",
    "    unique_chars = set(s)\n",
    "    required = len(unique_chars)\n",
    "    char_count = Counter()\n",
    "    formed = 0\n",
    "    l = 0\n",
    "    min_len = n + 1\n",
    "    min_window = \"\"\n",
    "\n",
    "    for r in range(n):\n",
    "        char_count[s[r]] += 1\n",
    "        if char_count[s[r]] == 1: \n",
    "            formed += 1\n",
    "\n",
    "        while formed == required:\n",
    "            window_len = r - l + 1\n",
    "            if window_len < min_len:\n",
    "                min_len = window_len\n",
    "                min_window = s[l:r+1]\n",
    "\n",
    "            char_count[s[l]] -= 1\n",
    "            if char_count[s[l]] == 0:\n",
    "                formed -= 1\n",
    "            l += 1\n",
    "\n",
    "    return min_window\n",
    "\n",
    "string = \"asdaewsqgtwwsa\"\n",
    "print(\"Original Strings:\")\n",
    "print(string)\n",
    "print(\"Smallest window that contains all characters of the said string:\")\n",
    "print(smallest_window(string))\n",
    "        \n",
    "        \n",
    "        \n",
    "        "
   ]
  },
  {
   "cell_type": "code",
   "execution_count": 8,
   "metadata": {},
   "outputs": [
    {
     "name": "stdout",
     "output_type": "stream",
     "text": [
      "Original Strings:\n",
      "Write a Java program to sort an array of given integers using Quick sort Algorithm.\n",
      "Smallest word: a\n",
      "Largest word: Algorithm.\n"
     ]
    }
   ],
   "source": [
    "'''17. Write a Python program to find smallest and largest word in a given string.\n",
    "    Data:\n",
    "        Original Strings:\n",
    "        Write a Java program to sort an array of given integers using Quick sort Algorithm.\n",
    "    Expected Output:\n",
    "        Smallest word: a\n",
    "        Largest word: Algorithm.'''\n",
    "\n",
    "def smallest_largest_word(s):\n",
    "    words = s.split()\n",
    "    smallest = min(words, key=len)\n",
    "    largest = max(words, key=len)\n",
    "    print(f\"Smallest word: {smallest}\")\n",
    "    print(f\"Largest word: {largest}\")\n",
    "string = \"Write a Java program to sort an array of given integers using Quick sort Algorithm.\"\n",
    "print(\"Original Strings:\")\n",
    "print(string)\n",
    "smallest_largest_word(string)\n",
    "            \n",
    "            \n",
    "            \n"
   ]
  },
  {
   "cell_type": "code",
   "execution_count": 7,
   "metadata": {},
   "outputs": [
    {
     "name": "stdout",
     "output_type": "stream",
     "text": [
      "7\n",
      "1\n",
      "Not found\n"
     ]
    }
   ],
   "source": [
    "'''18. Write a Python program to find the index of a given string at which a given substring starts. If the substring is \n",
    "    not found in the given string return 'Not found\n",
    "    Data:\n",
    "        \"Ex\"\n",
    "        \"yt\"\n",
    "        \"PY\"\n",
    "    Expected Output:\n",
    "        7\n",
    "        1\n",
    "        Not found '''\n",
    "def find_substring_index(s, sub):\n",
    "    idx = s.find(sub)\n",
    "    if idx == -1:\n",
    "        return 'Not found'\n",
    "    return idx\n",
    "\n",
    "string = \"Python Exercises\"\n",
    "subs = [\"Ex\", \"yt\", \"PY\"]\n",
    "\n",
    "for sub in subs:\n",
    "    print(find_substring_index(string, sub))\n",
    "        \n",
    "        \n",
    "        \n",
    "        "
   ]
  },
  {
   "cell_type": "code",
   "execution_count": 6,
   "metadata": {},
   "outputs": [
    {
     "name": "stdout",
     "output_type": "stream",
     "text": [
      "pYTHON eXERCISES\n",
      "jAVA\n",
      "nUMpY\n"
     ]
    }
   ],
   "source": [
    "'''19. Write a Python program to swap cases of a given string.\n",
    "    Data:\n",
    "        \"Python Exercises\"\n",
    "        \"Java\"\n",
    "        \"NumPy\"\n",
    "    Expected Output:\n",
    "        pYTHON eXERCISES\n",
    "        jAVA\n",
    "        nUMpY '''\n",
    "def swap_cases(s):\n",
    "    return s.swapcase()\n",
    "data = [\n",
    "    \"Python Exercises\",\n",
    "    \"Java\",\n",
    "    \"NumPy\"\n",
    "]\n",
    "\n",
    "for s in data:\n",
    "    print(swap_cases(s))\n",
    "        \n",
    "        \n",
    "        \n",
    "        "
   ]
  },
  {
   "cell_type": "code",
   "execution_count": 5,
   "metadata": {},
   "outputs": [
    {
     "name": "stdout",
     "output_type": "stream",
     "text": [
      "Original Bytearray :\n",
      "[111, 12, 45, 67, 109]\n",
      "Hexadecimal string:\n",
      "6f0c2d436d\n"
     ]
    }
   ],
   "source": [
    "'''20. Write a Python program to convert a given Bytearray to Hexadecimal string.\n",
    "    Data:\n",
    "        Original Bytearray :\n",
    "        [111, 12, 45, 67, 109]\n",
    "    Expected Output:\n",
    "        Hexadecimal string:\n",
    "        6f0c2d436d'''\n",
    "data = [111, 12, 45, 67, 109]\n",
    "b = bytearray(data)\n",
    "\n",
    "hex_str = b.hex()\n",
    "\n",
    "print(\"Original Bytearray :\")\n",
    "print(data)\n",
    "print(\"Hexadecimal string:\")\n",
    "print(hex_str)\n",
    "        \n",
    "        \n",
    "        "
   ]
  },
  {
   "cell_type": "code",
   "execution_count": null,
   "metadata": {},
   "outputs": [],
   "source": []
  }
 ],
 "metadata": {
  "kernelspec": {
   "display_name": "Python 3 (ipykernel)",
   "language": "python",
   "name": "python3"
  },
  "language_info": {
   "codemirror_mode": {
    "name": "ipython",
    "version": 3
   },
   "file_extension": ".py",
   "mimetype": "text/x-python",
   "name": "python",
   "nbconvert_exporter": "python",
   "pygments_lexer": "ipython3",
   "version": "3.12.7"
  }
 },
 "nbformat": 4,
 "nbformat_minor": 4
}
