{
 "cells": [
  {
   "cell_type": "markdown",
   "metadata": {},
   "source": [
    "# While Loop Intermediate Questions"
   ]
  },
  {
   "cell_type": "code",
   "execution_count": 25,
   "metadata": {},
   "outputs": [
    {
     "name": "stdin",
     "output_type": "stream",
     "text": [
      "Please Enter any Positive Integer less than 5 :  3\n"
     ]
    },
    {
     "name": "stdout",
     "output_type": "stream",
     "text": [
      "Multiplication Table\n",
      "1  *  3  =  3\n",
      "2  *  3  =  6\n",
      "3  *  3  =  9\n",
      "4  *  3  =  12\n",
      "5  *  3  =  15\n",
      "6  *  3  =  18\n",
      "7  *  3  =  21\n",
      "8  *  3  =  24\n",
      "9  *  3  =  27\n",
      "10  *  3  =  30\n",
      "==============\n",
      "1  *  4  =  4\n",
      "2  *  4  =  8\n",
      "3  *  4  =  12\n",
      "4  *  4  =  16\n",
      "5  *  4  =  20\n",
      "6  *  4  =  24\n",
      "7  *  4  =  28\n",
      "8  *  4  =  32\n",
      "9  *  4  =  36\n",
      "10  *  4  =  40\n",
      "==============\n",
      "1  *  5  =  5\n",
      "2  *  5  =  10\n",
      "3  *  5  =  15\n",
      "4  *  5  =  20\n",
      "5  *  5  =  25\n",
      "6  *  5  =  30\n",
      "7  *  5  =  35\n",
      "8  *  5  =  40\n",
      "9  *  5  =  45\n",
      "10  *  5  =  50\n",
      "==============\n"
     ]
    }
   ],
   "source": [
    "'''1. \n",
    "            10  *  3  =  30\n",
    "            ==============\n",
    "            1  *  4  =  4\n",
    "            2  *  4  =  8\n",
    "            3  *  4  =  12Write a Python program to get an integer within 5 from the user and\n",
    "            print the multiplication tables from that entered number until 5 using while loop.\n",
    "    Data:\n",
    "        Please Enter any Positive Integer less than 5 : \n",
    "    Expected output:\n",
    "        Please Enter any Positive Integer less than 5 : 2\n",
    "            Multiplication Table \n",
    "            1  *  2  =  2\n",
    "            2  *  2  =  4\n",
    "            3  *  2  =  6\n",
    "            4  *  2  =  8\n",
    "            5  *  2  =  10\n",
    "            6  *  2  =  12\n",
    "            7  *  2  =  14\n",
    "            8  *  2  =  16\n",
    "            9  *  2  =  18\n",
    "            10  *  2  =  20\n",
    "            ==============\n",
    "            1  *  3  =  3\n",
    "            2  *  3  =  6\n",
    "            3  *  3  =  9\n",
    "            4  *  3  =  12\n",
    "            5  *  3  =  15\n",
    "            6  *  3  =  18\n",
    "            7  *  3  =  21\n",
    "            8  *  3  =  24\n",
    "            9  *  3  =  27\n",
    "            4  *  4  =  16\n",
    "            5  *  4  =  20\n",
    "            6  *  4  =  24\n",
    "            7  *  4  =  28\n",
    "            8  *  4  =  32\n",
    "            9  *  4  =  36\n",
    "            10  *  4  =  40\n",
    "            ==============\n",
    "            1  *  5  =  5\n",
    "            2  *  5  =  10\n",
    "            3  *  5  =  15\n",
    "            4  *  5  =  20\n",
    "            5  *  5  =  25\n",
    "            6  *  5  =  30\n",
    "            7  *  5  =  35\n",
    "            8  *  5  =  40\n",
    "            9  *  5  =  45\n",
    "            10  *  5  =  50\n",
    "            ============== '''\n",
    "\n",
    "start = int(input(\"Please Enter any Positive Integer less than 5 : \"))\n",
    "print(\"Multiplication Table\")\n",
    "\n",
    "num = start\n",
    "while num <= 5:\n",
    "    i = 1\n",
    "    while i <= 10:\n",
    "        print(f\"{i}  *  {num}  =  {i * num}\")\n",
    "        i += 1\n",
    "    print(\"==============\")\n",
    "    num += 1\n",
    "        \n",
    "        \n",
    "        "
   ]
  },
  {
   "cell_type": "code",
   "execution_count": 26,
   "metadata": {},
   "outputs": [
    {
     "name": "stdout",
     "output_type": "stream",
     "text": [
      "10\n",
      "20\n",
      "30\n",
      "40\n",
      "50\n",
      "Sum=  150\n"
     ]
    }
   ],
   "source": [
    "'''2. Write a python program to display the sum of a list of numbers using while loop.\n",
    "    Data:\n",
    "        x = [10,20,30,40,50]\n",
    "    Expected output:\n",
    "        10\n",
    "        20\n",
    "        30\n",
    "        40\n",
    "        50\n",
    "        Sum=  150 '''\n",
    "x = [10, 20, 30, 40, 50]\n",
    "i = 0\n",
    "total = 0\n",
    "\n",
    "while i < len(x):\n",
    "    print(x[i])\n",
    "    total += x[i]\n",
    "    i += 1\n",
    "\n",
    "print(\"Sum= \", total)\n",
    "        \n",
    "        \n",
    "        \n",
    "        "
   ]
  },
  {
   "cell_type": "code",
   "execution_count": 27,
   "metadata": {},
   "outputs": [
    {
     "name": "stdout",
     "output_type": "stream",
     "text": [
      "22\n",
      "24\n",
      "26\n",
      "28\n",
      "30\n"
     ]
    }
   ],
   "source": [
    "'''3. Write a python program to display even numbers between minimun and maximum range.\n",
    "    Data:\n",
    "        minimum and maximum range = 21,30\n",
    "    Expected output:\n",
    "        22\n",
    "        24\n",
    "        26\n",
    "        28\n",
    "        30 '''\n",
    "minimum = 21\n",
    "maximum = 30\n",
    "\n",
    "for num in range(minimum, maximum + 1):\n",
    "    if num % 2 == 0:\n",
    "        print(num)\n",
    "        \n",
    "        \n",
    "        \n",
    "        "
   ]
  },
  {
   "cell_type": "code",
   "execution_count": 28,
   "metadata": {},
   "outputs": [
    {
     "name": "stdin",
     "output_type": "stream",
     "text": [
      " aidinasaur\n",
      " python\n",
      " \n"
     ]
    },
    {
     "name": "stdout",
     "output_type": "stream",
     "text": [
      "AIDINASAUR\n",
      "PYTHON\n"
     ]
    }
   ],
   "source": [
    "'''4. Write a Python program that accepts a sequence of lines (blank line to terminate) as input and\n",
    "            print the lines as output all characters in upper case.\n",
    "     Data:\n",
    "        aidinasaur\n",
    "        python\n",
    "    Expected output:\n",
    "        AIDINASAUR\n",
    "        PYTHON '''\n",
    "\n",
    "lines = []\n",
    "while True:\n",
    "    line = input()\n",
    "    if line == \"\":\n",
    "        break\n",
    "    lines.append(line)\n",
    "\n",
    "for line in lines:\n",
    "    print(line.upper())\n",
    "        \n",
    "        \n",
    "        \n",
    "        "
   ]
  },
  {
   "cell_type": "code",
   "execution_count": 24,
   "metadata": {},
   "outputs": [
    {
     "name": "stdin",
     "output_type": "stream",
     "text": [
      "Enter your guess: 4\n",
      "Enter your guess: 5\n",
      "Enter your guess: 6\n"
     ]
    },
    {
     "name": "stdout",
     "output_type": "stream",
     "text": [
      "You lose\n"
     ]
    }
   ],
   "source": [
    "'''5. Write a program that generates a random number (0-10). Ask the user to guess it and give 3 chances.\n",
    "    Data:\n",
    "        4, 5, 6\n",
    "    Expected output:\n",
    "        Enter your guess:4\n",
    "        Enter your guess:5\n",
    "        Enter your guess:6\n",
    "        You lose '''\n",
    "import random\n",
    "\n",
    "number = random.randint(0, 10)\n",
    "chances = 3\n",
    "\n",
    "for i in range(chances):\n",
    "    guess = int(input(\"Enter your guess:\"))\n",
    "    if guess == number:\n",
    "        print(\"You win\")\n",
    "        break\n",
    "else:\n",
    "    print(\"You lose\")\n",
    "        \n",
    "        \n",
    "        "
   ]
  },
  {
   "cell_type": "code",
   "execution_count": 21,
   "metadata": {},
   "outputs": [
    {
     "name": "stdin",
     "output_type": "stream",
     "text": [
      "Input your password:  salem23\n"
     ]
    },
    {
     "name": "stdout",
     "output_type": "stream",
     "text": [
      "Not a Valid Password\n"
     ]
    }
   ],
   "source": [
    "'''6. Write a Python program to check the validity of password entered by a user.\n",
    "    Data:\n",
    "        Input your password: salem23\n",
    "    Expected output:\n",
    "        Not a Valid Password '''\n",
    "\n",
    "import re\n",
    "\n",
    "password = input(\"Input your password: \")\n",
    "valid = True\n",
    "\n",
    "if len(password) < 8:\n",
    "    valid = False\n",
    "if not re.search(r\"[A-Z]\", password):\n",
    "    valid = False\n",
    "if not re.search(r\"[a-z]\", password):\n",
    "    valid = False\n",
    "if not re.search(r\"\\d\", password):\n",
    "    valid = False\n",
    "if not re.search(r\"[^A-Za-z0-9]\", password):\n",
    "    valid = False\n",
    "\n",
    "if valid:\n",
    "    print(\"Valid Password\")\n",
    "else:\n",
    "    print(\"Not a Valid Password\")\n",
    "        \n",
    "        \n",
    "        \n",
    "        "
   ]
  },
  {
   "cell_type": "code",
   "execution_count": 20,
   "metadata": {},
   "outputs": [
    {
     "name": "stdin",
     "output_type": "stream",
     "text": [
      "Input a letter of the alphabet:  G\n"
     ]
    },
    {
     "name": "stdout",
     "output_type": "stream",
     "text": [
      "G is a consonant.\n"
     ]
    }
   ],
   "source": [
    "'''7. Write a Python program to check whether the entered alphabet is a vowel or a consonant.\n",
    "    Data:\n",
    "        Input a letter of the alphabet: a\n",
    "        Input a letter of the alphabet: G\n",
    "    Expected Output: \n",
    "        a is a vowel.\n",
    "        G is a consonant. '''\n",
    "\n",
    "letter = input(\"Input a letter of the alphabet: \")\n",
    "\n",
    "if len(letter) == 1 and letter.isalpha():\n",
    "    if letter.lower() in 'aeiou':\n",
    "        print(f\"{letter} is a vowel.\")\n",
    "    else:\n",
    "        print(f\"{letter} is a consonant.\")\n",
    "else:\n",
    "    print(\"Please enter a single alphabet letter.\")\n",
    "        \n",
    "        \n",
    "        \n",
    "        "
   ]
  },
  {
   "cell_type": "code",
   "execution_count": 18,
   "metadata": {},
   "outputs": [
    {
     "name": "stdin",
     "output_type": "stream",
     "text": [
      "Enter an integer number (0 to finish):  12\n",
      "Enter an integer number (0 to finish):  13\n",
      "Enter an integer number (0 to finish):  15\n",
      "Enter an integer number (0 to finish):  0\n"
     ]
    },
    {
     "name": "stdout",
     "output_type": "stream",
     "text": [
      "Average and Sum of the above numbers are:  13.333333333333334 40.0\n"
     ]
    }
   ],
   "source": [
    "'''8. Write a Python program to calculate the sum and average of n integer numbers (input from the user). Input 0 to finish. \n",
    "    Data:\n",
    "        12,13,15,0\n",
    "    Expected output:\n",
    "        Average and Sum of the above numbers are:  13.333333333333334 40.0 '''\n",
    "\n",
    "numbers = []\n",
    "\n",
    "while True:\n",
    "    num = int(input(\"Enter an integer number (0 to finish): \"))\n",
    "    if num == 0:\n",
    "        break\n",
    "    numbers.append(num)\n",
    "\n",
    "if numbers:  # Check if the list is not empty\n",
    "    total = sum(numbers)\n",
    "    average = total / len(numbers)\n",
    "    print(\"Average and Sum of the above numbers are: \", average, float(total))\n",
    "else:\n",
    "    print(\"No numbers were entered.\")\n",
    "            \n",
    "            \n",
    "            \n",
    "            "
   ]
  },
  {
   "cell_type": "code",
   "execution_count": 12,
   "metadata": {},
   "outputs": [
    {
     "name": "stdin",
     "output_type": "stream",
     "text": [
      "Enter the number of terms:  7\n"
     ]
    },
    {
     "name": "stdout",
     "output_type": "stream",
     "text": [
      "Fibonacci sequence:\n",
      "0 1 1 2 3 5 8 "
     ]
    }
   ],
   "source": [
    "'''9. Write a python program to display fibonacci series up to 10 terms.\n",
    "    Data:\n",
    "        terms = 7\n",
    "    Expected output:\n",
    "        Fibonacci sequence:\n",
    "        0 1 1 2 3 5 8 '''\n",
    "terms = int(input(\"Enter the number of terms: \"))\n",
    "\n",
    "a, b = 0, 1\n",
    "print(\"Fibonacci sequence:\")\n",
    "for i in range(terms):\n",
    "    print(a, end=' ')\n",
    "    a, b = b, a + b\n",
    "        \n",
    "        \n",
    "        \n",
    "        "
   ]
  },
  {
   "cell_type": "code",
   "execution_count": 11,
   "metadata": {},
   "outputs": [
    {
     "name": "stdin",
     "output_type": "stream",
     "text": [
      "Enter a number:  987654\n"
     ]
    },
    {
     "name": "stdout",
     "output_type": "stream",
     "text": [
      "Given Number:  987654\n",
      "Reversed Number:  456789\n"
     ]
    }
   ],
   "source": [
    "'''10. Write a python program to print the reverse of a given integer number.\n",
    "    Data:\n",
    "        x = 987654\n",
    "    Expected output:\n",
    "        Given Number:  987654\n",
    "        Reversed Number:  456789 '''\n",
    "\n",
    "x = int(input(\"Enter a number: \"))\n",
    "reversed_number = int(str(abs(x))[::-1])\n",
    "print(\"Given Number: \", x)\n",
    "print(\"Reversed Number: \", reversed_number)\n",
    "            \n",
    "            \n",
    "            \n",
    "            "
   ]
  },
  {
   "cell_type": "code",
   "execution_count": 10,
   "metadata": {},
   "outputs": [
    {
     "name": "stdout",
     "output_type": "stream",
     "text": [
      "19\n"
     ]
    }
   ],
   "source": [
    "'''11. Write a python function(digit_sum) that takes a positive integer n as input and returns the sum of all that number's digits.\n",
    "    Data:\n",
    "        Digit_sum(892)\n",
    "    Expected output:\n",
    "        19 '''\n",
    "\n",
    "def digit_sum(n):\n",
    "    return sum(int(digit) for digit in str(n))\n",
    "\n",
    "print(digit_sum(892))\n",
    "        \n",
    "        \n",
    "        \n",
    "        "
   ]
  },
  {
   "cell_type": "code",
   "execution_count": 9,
   "metadata": {},
   "outputs": [
    {
     "name": "stdout",
     "output_type": "stream",
     "text": [
      "Out of 100 Random Numbers, 60 were even and 40 were odd\n"
     ]
    }
   ],
   "source": [
    "'''12. Write a program that generates 100 random numbers (in the range of 1-1000) and keeps a count of how many of those random \n",
    "    numbers are even and how many are odd.\n",
    "    Data:\n",
    "        1-1000\n",
    "    Expected output:\n",
    "        Out of 100 Random Numbers, 50 were even and 50 were add '''\n",
    "import random\n",
    "\n",
    "even_count = 0\n",
    "odd_count = 0\n",
    "\n",
    "for _ in range(100):\n",
    "    num = random.randint(1, 1000)\n",
    "    if num % 2 == 0:\n",
    "        even_count += 1\n",
    "    else:\n",
    "        odd_count += 1\n",
    "\n",
    "print(f\"Out of 100 Random Numbers, {even_count} were even and {odd_count} were odd\")\n",
    "        \n",
    "        \n",
    "        \n",
    "        "
   ]
  },
  {
   "cell_type": "code",
   "execution_count": 8,
   "metadata": {},
   "outputs": [
    {
     "name": "stdout",
     "output_type": "stream",
     "text": [
      "Out of 100 Random Numbers, 49 were even and 51 were Odd\n",
      "Out of 100 Random Numbers, 47 were even and 53 were Odd\n",
      "Out of 100 Random Numbers, 44 were even and 56 were Odd\n"
     ]
    }
   ],
   "source": [
    "'''13. Write a program that generates 100 random numbers (in the range of 1-1000) and \n",
    "            keeps a count of how many of those random numbers are even and how many are odd.\n",
    "    Data:\n",
    "        3 times\n",
    "    Expected output:\n",
    "        Out of 100 Random Numbers, 46 were even and 54 were Odd\n",
    "        Out of 100 Random Numbers, 46 were even and 54 were Odd\n",
    "        Out of 100 Random Numbers, 46 were even and 54 were Odd '''\n",
    "\n",
    "import random\n",
    "\n",
    "for _ in range(3):\n",
    "    even_count = 0\n",
    "    odd_count = 0\n",
    "    for _ in range(100):\n",
    "        num = random.randint(1, 1000)\n",
    "        if num % 2 == 0:\n",
    "            even_count += 1\n",
    "        else:\n",
    "            odd_count += 1\n",
    "    print(f\"Out of 100 Random Numbers, {even_count} were even and {odd_count} were Odd\")\n",
    "    \n",
    "    \n",
    "    \n",
    "    "
   ]
  },
  {
   "cell_type": "code",
   "execution_count": 7,
   "metadata": {},
   "outputs": [
    {
     "name": "stdin",
     "output_type": "stream",
     "text": [
      "Enter a number:  3\n"
     ]
    },
    {
     "name": "stdout",
     "output_type": "stream",
     "text": [
      "6\n"
     ]
    }
   ],
   "source": [
    "'''14. Write a python program to find the factorial of any number entered by the user.\n",
    "    Data:\n",
    "        3\n",
    "    Expected output:\n",
    "        6 '''\n",
    "num = int(input(\"Enter a number: \"))\n",
    "\n",
    "factorial = 1\n",
    "for i in range(1, num + 1):\n",
    "    factorial *= i\n",
    "\n",
    "print(factorial)\n",
    "        \n",
    "        \n",
    "        \n",
    "        "
   ]
  },
  {
   "cell_type": "code",
   "execution_count": 6,
   "metadata": {},
   "outputs": [
    {
     "name": "stdin",
     "output_type": "stream",
     "text": [
      "Enter the first number: 10\n",
      "Enter the second number: 20\n"
     ]
    },
    {
     "name": "stdout",
     "output_type": "stream",
     "text": [
      "10\n"
     ]
    }
   ],
   "source": [
    "'''15. Write a program to find (GCD) or (HCF) of two given number.\n",
    "    Data:\n",
    "        10\n",
    "        20\n",
    "    Expected output:     \n",
    "        Enter the first number:10\n",
    "        Enter the second number:20\n",
    "        10 '''\n",
    "a = int(input(\"Enter the first number:\"))\n",
    "b = int(input(\"Enter the second number:\"))\n",
    "\n",
    "def gcd(x, y):\n",
    "    while y:\n",
    "        x, y = y, x % y\n",
    "    return x\n",
    "\n",
    "print(gcd(a, b))\n",
    "        \n",
    "        \n",
    "        \n",
    "        "
   ]
  },
  {
   "cell_type": "code",
   "execution_count": 5,
   "metadata": {},
   "outputs": [
    {
     "name": "stdin",
     "output_type": "stream",
     "text": [
      "Enter a number:  1234\n"
     ]
    },
    {
     "name": "stdout",
     "output_type": "stream",
     "text": [
      "10\n"
     ]
    }
   ],
   "source": [
    "'''16. Write a python program to calcute the sum of digits of a number given by user.\n",
    "    Data:\n",
    "        Enter a number:1234\n",
    "    Expected output:\n",
    "        10 '''\n",
    "num = int(input(\"Enter a number: \"))\n",
    "sum_digits = sum(int(digit) for digit in str(abs(num)))  \n",
    "\n",
    "print(sum_digits)\n",
    "        \n",
    "        \n",
    "        \n",
    "        "
   ]
  },
  {
   "cell_type": "code",
   "execution_count": 4,
   "metadata": {},
   "outputs": [
    {
     "name": "stdin",
     "output_type": "stream",
     "text": [
      "Enter a number:  10\n"
     ]
    },
    {
     "name": "stdout",
     "output_type": "stream",
     "text": [
      "2\n",
      "5\n"
     ]
    }
   ],
   "source": [
    "'''17. Write a python program to find prime factor of a number entered by a user.\n",
    "    Data:\n",
    "        10\n",
    "    Expected output:\n",
    "        2\n",
    "        5 '''\n",
    "def prime_factors(n):\n",
    "    factors = []\n",
    "    while n % 2 == 0:\n",
    "        factors.append(2)\n",
    "        n //= 2\n",
    "    for i in range(3, int(n**0.5)+1, 2):\n",
    "        while n % i == 0:\n",
    "            factors.append(i)\n",
    "            n //= i\n",
    "    if n > 2:\n",
    "        factors.append(n)\n",
    "    return factors\n",
    "\n",
    "num = int(input(\"Enter a number: \"))\n",
    "result = prime_factors(num)\n",
    "for f in result:\n",
    "    print(f)\n",
    "        \n",
    "        \n",
    "        \n",
    "        "
   ]
  },
  {
   "cell_type": "code",
   "execution_count": 3,
   "metadata": {},
   "outputs": [
    {
     "name": "stdin",
     "output_type": "stream",
     "text": [
      "Enter a number:  257845\n"
     ]
    },
    {
     "name": "stdout",
     "output_type": "stream",
     "text": [
      "Total digits are:  6\n"
     ]
    }
   ],
   "source": [
    "'''18. Write a python program to print the total number of digits present in a number entered by the user.\n",
    "    Data:\n",
    "        x = 257845\n",
    "    Expected output:\n",
    "        Total digits are:  6 '''\n",
    "x = int(input(\"Enter a number: \"))\n",
    "total_digits = len(str(abs(x)))\n",
    "print(\"Total digits are: \", total_digits)\n",
    "            \n",
    "            \n",
    "            \n",
    "            "
   ]
  },
  {
   "cell_type": "code",
   "execution_count": 2,
   "metadata": {},
   "outputs": [
    {
     "name": "stdout",
     "output_type": "stream",
     "text": [
      "[[0, 0, 0, 0, 0, 0, 0, 0, 0, 0], [0, 0, 0, 0, 0, 0, 0, 0, 0, 0], [0, 0, 0, 0, 0, 0, 0, 0, 0, 0], [0, 0, 0, 0, 0, 0, 0, 0, 0, 0], [0, 0, 0, 0, 0, 0, 0, 0, 0, 0]]\n"
     ]
    }
   ],
   "source": [
    "''' 19. create a temporary list inside outer for/while loop which you can fill inside inner for/while loop.\n",
    "    Data:\n",
    "        count=0\n",
    "    Expected output:\n",
    "        [[0, 0, 0, 0, 0, 0, 0, 0, 0, 0], \n",
    "         [0, 0, 0, 0, 0, 0, 0, 0, 0, 0], \n",
    "         [0, 0, 0, 0, 0, 0, 0, 0, 0, 0], \n",
    "         [0, 0, 0, 0, 0, 0, 0, 0, 0, 0], \n",
    "         [0, 0, 0, 0, 0, 0, 0, 0, 0, 0]] '''\n",
    "count = 0\n",
    "result = []\n",
    "\n",
    "for i in range(5):  # 5 rows\n",
    "    temp = []\n",
    "    for j in range(10):  # 10 columns\n",
    "        temp.append(count)\n",
    "    result.append(temp)\n",
    "\n",
    "print(result) \n",
    "        "
   ]
  },
  {
   "cell_type": "code",
   "execution_count": 1,
   "metadata": {},
   "outputs": [
    {
     "name": "stdout",
     "output_type": "stream",
     "text": [
      "**\n",
      "***\n",
      "************\n",
      "*****\n"
     ]
    }
   ],
   "source": [
    "'''20. Write a Python program to create a histogram from a given list of integers.\n",
    "    Data:\n",
    "        [2, 3, 12, 5]\n",
    "    Expected output:\n",
    "        **\n",
    "        ***\n",
    "        ************\n",
    "        ***** '''\n",
    "data = [2, 3, 12, 5]\n",
    "\n",
    "for num in data:\n",
    "    print('*' * num)\n",
    "        \n",
    "        \n",
    "        \n",
    "        "
   ]
  },
  {
   "cell_type": "code",
   "execution_count": null,
   "metadata": {},
   "outputs": [],
   "source": []
  }
 ],
 "metadata": {
  "kernelspec": {
   "display_name": "Python 3 (ipykernel)",
   "language": "python",
   "name": "python3"
  },
  "language_info": {
   "codemirror_mode": {
    "name": "ipython",
    "version": 3
   },
   "file_extension": ".py",
   "mimetype": "text/x-python",
   "name": "python",
   "nbconvert_exporter": "python",
   "pygments_lexer": "ipython3",
   "version": "3.12.7"
  }
 },
 "nbformat": 4,
 "nbformat_minor": 4
}
