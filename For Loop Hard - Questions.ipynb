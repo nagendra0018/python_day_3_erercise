{
 "cells": [
  {
   "cell_type": "markdown",
   "metadata": {},
   "source": [
    "# For Loop Hard Questions"
   ]
  },
  {
   "cell_type": "code",
   "execution_count": 1,
   "metadata": {},
   "outputs": [
    {
     "name": "stdout",
     "output_type": "stream",
     "text": [
      "1\n",
      "4\n"
     ]
    }
   ],
   "source": [
    "''' 1. Write a Python program to compute the greatest common divisor (GCD) of two positive integers.\n",
    "    Data:\n",
    "        gcd(22, 27)\n",
    "        gcd(4, 3344)\n",
    "    Expected Output:\n",
    "        1\n",
    "        4 '''\n",
    "def gcd(a, b):\n",
    "    while b:\n",
    "        a, b = b, a % b\n",
    "    return a\n",
    "\n",
    "print(gcd(22, 27))   \n",
    "print(gcd(4, 3344))  \n",
    "        \n",
    "        \n",
    "        \n",
    "        "
   ]
  },
  {
   "cell_type": "code",
   "execution_count": 2,
   "metadata": {},
   "outputs": [
    {
     "name": "stdout",
     "output_type": "stream",
     "text": [
      "12\n",
      "135\n"
     ]
    }
   ],
   "source": [
    "''' 2. Write a Python program to get the least common multiple (LCM) of two positive integers.\n",
    "    Data:\n",
    "        lcm(4, 6)\n",
    "        lcm(15, 27)\n",
    "    Expected Output:\n",
    "        12\n",
    "        135 '''\n",
    "def lcm(a, b):\n",
    "    def gcd(x, y):\n",
    "        while y:\n",
    "            x, y = y, x % y\n",
    "        return x\n",
    "    return abs(a * b) // gcd(a, b)\n",
    "print(lcm(4, 6))   \n",
    "print(lcm(15, 27))  \n",
    "        \n",
    "        \n",
    "        "
   ]
  },
  {
   "cell_type": "code",
   "execution_count": 3,
   "metadata": {},
   "outputs": [
    {
     "name": "stdout",
     "output_type": "stream",
     "text": [
      "['Read', 'edit', 'documents', 'attached', 'emails']\n"
     ]
    }
   ],
   "source": [
    "''' 3. Write a Python program to find the list of words that are longer than a specified number from the given list.\n",
    "    Data:\n",
    "        lt = [\"The Read and edit documents attached to emails\"]\n",
    "        number = 3\n",
    "    Expected Output:\n",
    "        ['Read', 'edit', 'documents', 'attached', 'emails'] '''\n",
    "def words_longer_than_n(lt, number):\n",
    "    words = lt[0].split()\n",
    "    return [word for word in words if len(word) > number]\n",
    "\n",
    "lt = [\"The Read and edit documents attached to emails\"]\n",
    "number = 3\n",
    "result = words_longer_than_n(lt, number)\n",
    "print(result) \n",
    "        \n",
    "        \n",
    "        \n",
    "        "
   ]
  },
  {
   "cell_type": "code",
   "execution_count": 22,
   "metadata": {},
   "outputs": [
    {
     "name": "stdout",
     "output_type": "stream",
     "text": [
      "True\n",
      "None\n"
     ]
    }
   ],
   "source": [
    "''' 4. Write a Python function that takes two lists as parameters and returns True if they have at least one element in common, none if not.\n",
    "    Data:\n",
    "        (a, b) = ([1,2,3,4,5], [5,6,7,8,9])\n",
    "        (a, b) =([1,2,3,4,5], [6,7,8,9])\n",
    "    Expected Output:\n",
    "        True\n",
    "        None '''\n",
    "def have_common_element(a, b):\n",
    "    for item in a:\n",
    "        if item in b:\n",
    "            return True\n",
    "    return None\n",
    "\n",
    "print(have_common_element([1,2,3,4,5], [5,6,7,8,9]))  \n",
    "print(have_common_element([1,2,3,4,5], [6,7,8,9]))    \n",
    "        \n",
    "        \n",
    "        "
   ]
  },
  {
   "cell_type": "code",
   "execution_count": 23,
   "metadata": {},
   "outputs": [
    {
     "name": "stdout",
     "output_type": "stream",
     "text": [
      "Sublists of the said list:\n"
     ]
    },
    {
     "ename": "TypeError",
     "evalue": "'list' object is not callable",
     "output_type": "error",
     "traceback": [
      "\u001b[1;31m---------------------------------------------------------------------------\u001b[0m",
      "\u001b[1;31mTypeError\u001b[0m                                 Traceback (most recent call last)",
      "Cell \u001b[1;32mIn[23], line 18\u001b[0m\n\u001b[0;32m     15\u001b[0m y \u001b[38;5;241m=\u001b[39m [\u001b[38;5;124m'\u001b[39m\u001b[38;5;124mx\u001b[39m\u001b[38;5;124m'\u001b[39m, \u001b[38;5;124m'\u001b[39m\u001b[38;5;124my\u001b[39m\u001b[38;5;124m'\u001b[39m, \u001b[38;5;124m'\u001b[39m\u001b[38;5;124mz\u001b[39m\u001b[38;5;124m'\u001b[39m]\n\u001b[0;32m     17\u001b[0m \u001b[38;5;28mprint\u001b[39m(\u001b[38;5;124m\"\u001b[39m\u001b[38;5;124mSublists of the said list:\u001b[39m\u001b[38;5;124m\"\u001b[39m)\n\u001b[1;32m---> 18\u001b[0m \u001b[38;5;28mprint\u001b[39m(all_sublists(x))\n\u001b[0;32m     19\u001b[0m \u001b[38;5;28mprint\u001b[39m(all_sublists(y))\n",
      "Cell \u001b[1;32mIn[23], line 13\u001b[0m, in \u001b[0;36mall_sublists\u001b[1;34m(lst)\u001b[0m\n\u001b[0;32m     12\u001b[0m \u001b[38;5;28;01mdef\u001b[39;00m \u001b[38;5;21mall_sublists\u001b[39m(lst):\n\u001b[1;32m---> 13\u001b[0m     \u001b[38;5;28;01mreturn\u001b[39;00m [\u001b[38;5;28mlist\u001b[39m(sub) \u001b[38;5;28;01mfor\u001b[39;00m r \u001b[38;5;129;01min\u001b[39;00m \u001b[38;5;28mrange\u001b[39m(\u001b[38;5;28mlen\u001b[39m(lst)\u001b[38;5;241m+\u001b[39m\u001b[38;5;241m1\u001b[39m) \u001b[38;5;28;01mfor\u001b[39;00m sub \u001b[38;5;129;01min\u001b[39;00m combinations(lst, r)]\n",
      "\u001b[1;31mTypeError\u001b[0m: 'list' object is not callable"
     ]
    }
   ],
   "source": [
    "''' 5. Write a Python program to generate all sublists of a list.\n",
    "    Data:\n",
    "        Original list:\n",
    "        x = [10, 20, 30, 40]\n",
    "        y = ['X', 'Y', 'Z']\n",
    "    Expected Output:\n",
    "        Sublists of the said list:\n",
    "        [[], [1], [2], [1, 2], [3], [1, 3], [2, 3], [1, 2, 3]]\n",
    "        [[], ['x'], ['y'], ['x', 'y'], ['z'], ['x', 'z'], ['y', 'z'], ['x', 'y', 'z']] '''\n",
    "from itertools import chain, combinations\n",
    "\n",
    "def all_sublists(lst):\n",
    "    return [list(sub) for r in range(len(lst)+1) for sub in combinations(lst, r)]\n",
    "x = [1, 2, 3]\n",
    "y = ['x', 'y', 'z']\n",
    "\n",
    "print(\"Sublists of the said list:\")\n",
    "print(all_sublists(x))\n",
    "print(all_sublists(y))\n",
    "        \n",
    "        \n",
    "        \n",
    "        "
   ]
  },
  {
   "cell_type": "code",
   "execution_count": 24,
   "metadata": {},
   "outputs": [
    {
     "name": "stdout",
     "output_type": "stream",
     "text": [
      "2\n",
      "3\n",
      "5\n",
      "7\n",
      "None\n"
     ]
    }
   ],
   "source": [
    "''' 6. Write a Python program to print all the prime numbers upto a specified number using Sieve of Eratosthenes method.\n",
    "    Data:\n",
    "        x = 10\n",
    "    Expected Output:\n",
    "        2\n",
    "        3\n",
    "        5\n",
    "        7\n",
    "        None '''\n",
    "\n",
    "def sieve_of_eratosthenes(n):\n",
    "    if n < 2:\n",
    "        return\n",
    "    prime = [True for _ in range(n+1)]\n",
    "    prime[0] = prime[1] = False\n",
    "\n",
    "    for p in range(2, int(n**0.5) + 1):\n",
    "        if prime[p]:\n",
    "            for i in range(p*p, n+1, p):\n",
    "                prime[i] = False\n",
    "\n",
    "    for p in range(2, n+1):\n",
    "        if prime[p]:\n",
    "            print(p)\n",
    "    print(None)\n",
    "\n",
    "\n",
    "x = 10\n",
    "sieve_of_eratosthenes(x)\n",
    "        \n",
    "        \n",
    "        "
   ]
  },
  {
   "cell_type": "code",
   "execution_count": 25,
   "metadata": {},
   "outputs": [
    {
     "ename": "TypeError",
     "evalue": "'list' object is not callable",
     "output_type": "error",
     "traceback": [
      "\u001b[1;31m---------------------------------------------------------------------------\u001b[0m",
      "\u001b[1;31mTypeError\u001b[0m                                 Traceback (most recent call last)",
      "Cell \u001b[1;32mIn[25], line 14\u001b[0m\n\u001b[0;32m     12\u001b[0m original_list \u001b[38;5;241m=\u001b[39m [\u001b[38;5;241m1\u001b[39m, \u001b[38;5;241m2\u001b[39m, \u001b[38;5;241m3\u001b[39m, \u001b[38;5;241m4\u001b[39m, \u001b[38;5;241m5\u001b[39m, \u001b[38;5;241m6\u001b[39m, \u001b[38;5;241m7\u001b[39m, \u001b[38;5;241m8\u001b[39m, \u001b[38;5;241m9\u001b[39m]\n\u001b[0;32m     13\u001b[0m n \u001b[38;5;241m=\u001b[39m \u001b[38;5;241m2\u001b[39m \n\u001b[1;32m---> 14\u001b[0m combinations \u001b[38;5;241m=\u001b[39m \u001b[38;5;28mlist\u001b[39m(itertools\u001b[38;5;241m.\u001b[39mcombinations(original_list, n))\n\u001b[0;32m     16\u001b[0m \u001b[38;5;28;01mfor\u001b[39;00m i, combo \u001b[38;5;129;01min\u001b[39;00m \u001b[38;5;28menumerate\u001b[39m(combinations, \u001b[38;5;241m1\u001b[39m):\n\u001b[0;32m     17\u001b[0m     \u001b[38;5;28mprint\u001b[39m(\u001b[38;5;124mf\u001b[39m\u001b[38;5;124m\"\u001b[39m\u001b[38;5;124m[\u001b[39m\u001b[38;5;132;01m{\u001b[39;00mcombo[\u001b[38;5;241m0\u001b[39m]\u001b[38;5;132;01m}\u001b[39;00m\u001b[38;5;124m, \u001b[39m\u001b[38;5;132;01m{\u001b[39;00mcombo[\u001b[38;5;241m1\u001b[39m]\u001b[38;5;132;01m}\u001b[39;00m\u001b[38;5;124m]\u001b[39m\u001b[38;5;124m\"\u001b[39m, end\u001b[38;5;241m=\u001b[39m\u001b[38;5;124m'\u001b[39m\u001b[38;5;124m'\u001b[39m)\n",
      "\u001b[1;31mTypeError\u001b[0m: 'list' object is not callable"
     ]
    }
   ],
   "source": [
    "''' 7. Write a Python program to generate the combinations of n distinct objects taken from the elements of a given list..\n",
    "    Data:\n",
    "        Original list:\n",
    "        [1, 2, 3, 4, 5, 6, 7, 8, 9]\n",
    "    Expected Output:\n",
    "        [1, 2][1, 3][1, 4][1, 5][1, 6][1, 7][1, 8][1, 9][2, 3]\n",
    "        [2, 4][2, 5][2, 6][2, 7][2, 8][2, 9][3, 4][3, 5][3, 6]\n",
    "        [3, 7][3, 8][3, 9][4, 5][4, 6][4, 7][4, 8][4, 9][5, 6]\n",
    "        [5, 7][5, 8][5, 9][6, 7][6, 8][6, 9][7, 8][7, 9][8, 9] '''\n",
    "import itertools\n",
    "\n",
    "original_list = [1, 2, 3, 4, 5, 6, 7, 8, 9]\n",
    "n = 2 \n",
    "combinations = list(itertools.combinations(original_list, n))\n",
    "\n",
    "for i, combo in enumerate(combinations, 1):\n",
    "    print(f\"[{combo[0]}, {combo[1]}]\", end='')\n",
    "    if i % 8 == 0:\n",
    "        print()  \n",
    "\n",
    "        \n",
    "        \n",
    "        \n",
    "        "
   ]
  },
  {
   "cell_type": "code",
   "execution_count": 28,
   "metadata": {},
   "outputs": [
    {
     "name": "stdout",
     "output_type": "stream",
     "text": [
      "Multidimensional list:\n",
      "[[0, 0], [0, 0], [0, 0]]\n"
     ]
    }
   ],
   "source": [
    "''' 8. Write a Python program to create a multidimensional list (lists of lists) with zeros.\n",
    "    Expected Output:\n",
    "        Multidimensional list:\n",
    "        [[0, 0], [0, 0], [0, 0]] '''\n",
    "rows = 3\n",
    "cols = 2\n",
    "\n",
    "# Create a multidimensional list with zeros\n",
    "zero_matrix = [[0 for _ in range(cols)] for _ in range(rows)]\n",
    "\n",
    "print(\"Multidimensional list:\")\n",
    "print(zero_matrix)\n",
    "        \n",
    "        \n",
    "        "
   ]
  },
  {
   "cell_type": "code",
   "execution_count": 29,
   "metadata": {},
   "outputs": [
    {
     "name": "stdout",
     "output_type": "stream",
     "text": [
      "3X3 grid with numbers:\n",
      "[[1, 2, 3], [1, 2, 3], [1, 2, 3]]\n"
     ]
    }
   ],
   "source": [
    "''' 9. Write a Python program to create a 3X3 grid with numbers following given range(3). \n",
    "    Expected Output:\n",
    "        3X3 grid with numbers:\n",
    "        [[1, 2, 3], [1, 2, 3], [1, 2, 3]] '''\n",
    "grid = [[i for i in range(1, 4)] for _ in range(3)]\n",
    "\n",
    "print(\"3X3 grid with numbers:\")\n",
    "print(grid)\n",
    "        \n",
    "        \n",
    "        \n",
    "        "
   ]
  },
  {
   "cell_type": "code",
   "execution_count": 27,
   "metadata": {},
   "outputs": [
    {
     "name": "stdin",
     "output_type": "stream",
     "text": [
      "Input rows:  3\n",
      "Input columns:  3\n",
      "Input number of elements in a row (1, 2, 3):  2 2 2\n"
     ]
    },
    {
     "ename": "TypeError",
     "evalue": "'list' object is not callable",
     "output_type": "error",
     "traceback": [
      "\u001b[1;31m---------------------------------------------------------------------------\u001b[0m",
      "\u001b[1;31mTypeError\u001b[0m                                 Traceback (most recent call last)",
      "Cell \u001b[1;32mIn[27], line 18\u001b[0m\n\u001b[0;32m     15\u001b[0m matrix \u001b[38;5;241m=\u001b[39m []\n\u001b[0;32m     17\u001b[0m \u001b[38;5;28;01mfor\u001b[39;00m i \u001b[38;5;129;01min\u001b[39;00m \u001b[38;5;28mrange\u001b[39m(rows):\n\u001b[1;32m---> 18\u001b[0m     row \u001b[38;5;241m=\u001b[39m \u001b[38;5;28mlist\u001b[39m(\u001b[38;5;28mmap\u001b[39m(\u001b[38;5;28mint\u001b[39m, \u001b[38;5;28minput\u001b[39m(\u001b[38;5;124mf\u001b[39m\u001b[38;5;124m\"\u001b[39m\u001b[38;5;124mInput number of elements in a row (\u001b[39m\u001b[38;5;132;01m{\u001b[39;00m\u001b[38;5;124m'\u001b[39m\u001b[38;5;124m, \u001b[39m\u001b[38;5;124m'\u001b[39m\u001b[38;5;241m.\u001b[39mjoin(\u001b[38;5;28mstr\u001b[39m(j\u001b[38;5;241m+\u001b[39m\u001b[38;5;241m1\u001b[39m)\u001b[38;5;250m \u001b[39m\u001b[38;5;28;01mfor\u001b[39;00m\u001b[38;5;250m \u001b[39mj\u001b[38;5;250m \u001b[39m\u001b[38;5;129;01min\u001b[39;00m\u001b[38;5;250m \u001b[39m\u001b[38;5;28mrange\u001b[39m(cols))\u001b[38;5;132;01m}\u001b[39;00m\u001b[38;5;124m): \u001b[39m\u001b[38;5;124m\"\u001b[39m)\u001b[38;5;241m.\u001b[39msplit()))\n\u001b[0;32m     19\u001b[0m     matrix\u001b[38;5;241m.\u001b[39mappend(row)\n\u001b[0;32m     20\u001b[0m col_sums \u001b[38;5;241m=\u001b[39m [\u001b[38;5;28msum\u001b[39m(matrix[row][col] \u001b[38;5;28;01mfor\u001b[39;00m row \u001b[38;5;129;01min\u001b[39;00m \u001b[38;5;28mrange\u001b[39m(rows)) \u001b[38;5;28;01mfor\u001b[39;00m col \u001b[38;5;129;01min\u001b[39;00m \u001b[38;5;28mrange\u001b[39m(cols)]\n",
      "\u001b[1;31mTypeError\u001b[0m: 'list' object is not callable"
     ]
    }
   ],
   "source": [
    "''' 10. Write a Python program to print the sum of each column in a matrix. Accept matrix rows, \n",
    "            columns and elements for each column separated with a space for every row as input from the user.\n",
    "    Data:\n",
    "        Input rows: 3\n",
    "        Input columns: 3\n",
    "        Input number of elements in a row (1, 2, 3): \n",
    "        2 2 2\n",
    "        3 3 3\n",
    "        4 4 4\n",
    "    Expected Output:\n",
    "        sum for each column:\n",
    "        9  9  9  '''\n",
    "rows = int(input(\"Input rows: \"))\n",
    "cols = int(input(\"Input columns: \"))\n",
    "matrix = []\n",
    "\n",
    "for i in range(rows):\n",
    "    row = list(map(int, input(f\"Input number of elements in a row ({', '.join(str(j+1) for j in range(cols))}): \").split()))\n",
    "    matrix.append(row)\n",
    "col_sums = [sum(matrix[row][col] for row in range(rows)) for col in range(cols)]\n",
    "\n",
    "print(\"sum for each column:\")\n",
    "print(*col_sums)\n",
    "        \n",
    "        \n",
    "        "
   ]
  },
  {
   "cell_type": "code",
   "execution_count": 21,
   "metadata": {},
   "outputs": [
    {
     "name": "stdout",
     "output_type": "stream",
     "text": [
      "Count 1 in the said list: 3\n",
      "Count 7 in the said list: 2\n"
     ]
    }
   ],
   "source": [
    "''' 11. Write a Python program to count the number of sublists that contains a particular element.\n",
    "    Data:\n",
    "        Original list:\n",
    "        [[1, 3], [5, 7], [1, 11], [1, 15, 7]]\n",
    "    Expected Output:\n",
    "        Count 1 in the said list: 3\n",
    "        Count 7 in the said list: 2 '''\n",
    "list = [[1, 3], [5, 7], [1, 11], [1, 15, 7]]\n",
    "def count_sublists_with_element(list, element):\n",
    "    return sum(element in sublist for sublist in list)\n",
    "    \n",
    "print(\"Count 1 in the said list:\", count_sublists_with_element(list, 1))\n",
    "print(\"Count 7 in the said list:\", count_sublists_with_element(list, 7))\n",
    "        \n",
    "        \n",
    "        \n",
    "        "
   ]
  },
  {
   "cell_type": "code",
   "execution_count": 17,
   "metadata": {},
   "outputs": [
    {
     "name": "stdout",
     "output_type": "stream",
     "text": [
      "Number of integers in the said mixed list:\n",
      "6\n"
     ]
    }
   ],
   "source": [
    "''' 12. Write a Python program to count integer in a given mixed list.\n",
    "    Data:\n",
    "        list:[1, 'abcd', 3, 1.2, 4, 'xyz', 5, 'pqr', 7, -5, -12.22]\n",
    "    Expected Output:\n",
    "        Number of integers in the said mixed list:\n",
    "        6 '''\n",
    "\n",
    "lst = [1, 'abcd', 3, 1.2, 4, 'xyz', 5, 'pqr', 7, -5, -12.22]\n",
    "int_count = sum(isinstance(item, int) for item in lst)\n",
    "\n",
    "print(\"Number of integers in the said mixed list:\")\n",
    "print(int_count)\n",
    "        \n",
    "        \n",
    "        \n",
    "        "
   ]
  },
  {
   "cell_type": "code",
   "execution_count": 16,
   "metadata": {},
   "outputs": [
    {
     "name": "stdout",
     "output_type": "stream",
     "text": [
      "Item with maximum occurrences of the said list:\n",
      "2\n"
     ]
    }
   ],
   "source": [
    "''' 13. Write a Python program to find an element with maximum occurrences in a given list. \n",
    "    Data:\n",
    "        list:[2, 3, 8, 4, 7, 9, 8, 2, 6, 5, 1, 6, 1, 2, 3, 4, 6, 9, 1, 2]\n",
    "    Expected Output:\n",
    "        Item with maximum occurrences of the said list:\n",
    "        2 '''\n",
    "\n",
    "list = [2, 3, 8, 4, 7, 9, 8, 2, 6, 5, 1, 6, 1, 2, 3, 4, 6, 9, 1, 2]\n",
    "from collections import Counter\n",
    "\n",
    "count = Counter(list)\n",
    "max_item = count.most_common(1)[0][0]\n",
    "\n",
    "print(\"Item with maximum occurrences of the said list:\")\n",
    "print(max_item)\n",
    "    \n",
    "    \n",
    "    \n",
    "    "
   ]
  },
  {
   "cell_type": "code",
   "execution_count": 15,
   "metadata": {},
   "outputs": [
    {
     "name": "stdout",
     "output_type": "stream",
     "text": [
      "Character list:\n",
      "['#', 'color', '@']\n",
      "\n",
      "New list:\n",
      "['Red', 'Orange', 'Green', 'Orange', 'White']\n"
     ]
    }
   ],
   "source": [
    "''' 14. Write a Python program to remove those items which contain a special character or specified string from the given list.\n",
    "    Data:\n",
    "        list1: ['Red color', 'Orange#', 'Green', 'Orange @', 'White']\n",
    "    Expected Output:\n",
    "        Character list:\n",
    "        ['#', 'color', '@']\n",
    "\n",
    "        New list:\n",
    "        ['Red', '', 'Green', 'Orange', 'White'] '''\n",
    "list1 = ['Red color', 'Orange#', 'Green', 'Orange @', 'White']\n",
    "char_list = ['#', 'color', '@']\n",
    "def remove_specified(lst, removals):\n",
    "    result = []\n",
    "    for item in lst:\n",
    "        for rem in removals:\n",
    "            item = item.replace(rem, '')\n",
    "        result.append(item.strip())\n",
    "    return result\n",
    "\n",
    "print(\"Character list:\")\n",
    "print(char_list)\n",
    "print(\"\\nNew list:\")\n",
    "print(remove_specified(list1, char_list))\n",
    "        \n",
    "        \n",
    "        \n",
    "        "
   ]
  },
  {
   "cell_type": "code",
   "execution_count": 14,
   "metadata": {},
   "outputs": [
    {
     "name": "stdout",
     "output_type": "stream",
     "text": [
      "Range: 8 , 10\n",
      "Sum of the specified range: 29\n"
     ]
    }
   ],
   "source": [
    "''' 15. Write a Python program to calculate the sum of the numbers in a list between the specified range of indices.\n",
    "    Data:\n",
    "        list:[2, 1, 5, 6, 8, 3, 4, 9, 10, 11, 8, 12]\n",
    "    Expected Output:\n",
    "        Range: 8 , 10\n",
    "        Sum of the specified range: 29 '''\n",
    "lst = [2, 1, 5, 6, 8, 3, 4, 9, 10, 11, 8, 12]\n",
    "start, end = 8, 10\n",
    "range_sum = sum(lst[start:end+1])\n",
    "\n",
    "print(f\"Range: {start} , {end}\")\n",
    "print(\"Sum of the specified range:\", range_sum)\n",
    "        \n",
    "        \n",
    "        \n",
    "        "
   ]
  },
  {
   "cell_type": "code",
   "execution_count": 13,
   "metadata": {},
   "outputs": [
    {
     "name": "stdout",
     "output_type": "stream",
     "text": [
      "Reverse each list in the said list of lists:\n",
      "[[4, 3, 2, 1], [8, 7, 6, 5], [12, 11, 10, 9], [16, 15, 14, 13]]\n"
     ]
    }
   ],
   "source": [
    "''' 16. Write a Python program to reverse each list in a given list of lists.\n",
    "    Data:\n",
    "        Original list of lists:\n",
    "        nums = [[1, 2, 3, 4], [5, 6, 7, 8], [9, 10, 11, 12], [13, 14, 15, 16]] \n",
    "    Expected Output:\n",
    "        Reverse each list in the said list of lists:\n",
    "        [[4, 3, 2, 1], [8, 7, 6, 5], [12, 11, 10, 9], [16, 15, 14, 13]] '''\n",
    "\n",
    "nums = [[1, 2, 3, 4], [5, 6, 7, 8], [9, 10, 11, 12], [13, 14, 15, 16]]\n",
    "\n",
    "# Reverse each list in the list of lists using list comprehension\n",
    "result = [lst[::-1] for lst in nums]\n",
    "\n",
    "print(\"Reverse each list in the said list of lists:\")\n",
    "print(result)\n",
    "        \n",
    "        \n",
    "        \n",
    "        "
   ]
  },
  {
   "cell_type": "code",
   "execution_count": 12,
   "metadata": {},
   "outputs": [
    {
     "ename": "TypeError",
     "evalue": "'list' object is not callable",
     "output_type": "error",
     "traceback": [
      "\u001b[1;31m---------------------------------------------------------------------------\u001b[0m",
      "\u001b[1;31mTypeError\u001b[0m                                 Traceback (most recent call last)",
      "Cell \u001b[1;32mIn[12], line 16\u001b[0m\n\u001b[0;32m     14\u001b[0m y_counter \u001b[38;5;241m=\u001b[39m Counter(y)\n\u001b[0;32m     15\u001b[0m diff_counter \u001b[38;5;241m=\u001b[39m x_counter \u001b[38;5;241m-\u001b[39m y_counter\n\u001b[1;32m---> 16\u001b[0m result \u001b[38;5;241m=\u001b[39m \u001b[38;5;28mlist\u001b[39m(diff_counter\u001b[38;5;241m.\u001b[39melements())\n\u001b[0;32m     18\u001b[0m \u001b[38;5;28mprint\u001b[39m(\u001b[38;5;124m\"\u001b[39m\u001b[38;5;124mDifference between two said list (including duplicate elements):\u001b[39m\u001b[38;5;124m\"\u001b[39m)\n\u001b[0;32m     19\u001b[0m \u001b[38;5;28mprint\u001b[39m(result)\n",
      "\u001b[1;31mTypeError\u001b[0m: 'list' object is not callable"
     ]
    }
   ],
   "source": [
    "''' 17. Write a Python program to find the difference between two lists including duplicate elements.\n",
    "    Data:\n",
    "        Original lists:\n",
    "        x = [1,1,2,3,3,4,4,5,6,7]\n",
    "        y = [1,1,2,4,5,6]\n",
    "    Expected Output:\n",
    "        Difference between two said list (including duplicate elements):\n",
    "        [3, 3, 4, 7] '''\n",
    "\n",
    "x = [1, 1, 2, 3, 3, 4, 4, 5, 6, 7]\n",
    "y = [1, 1, 2, 4, 5, 6]\n",
    "from collections import Counter\n",
    "x_counter = Counter(x)\n",
    "y_counter = Counter(y)\n",
    "diff_counter = x_counter - y_counter\n",
    "result = list(diff_counter.elements())\n",
    "\n",
    "print(\"Difference between two said list (including duplicate elements):\")\n",
    "print(result)\n",
    "        \n",
    "        \n",
    "        \n",
    "        "
   ]
  },
  {
   "cell_type": "code",
   "execution_count": 10,
   "metadata": {},
   "outputs": [
    {
     "ename": "TypeError",
     "evalue": "'list' object is not callable",
     "output_type": "error",
     "traceback": [
      "\u001b[1;31m---------------------------------------------------------------------------\u001b[0m",
      "\u001b[1;31mTypeError\u001b[0m                                 Traceback (most recent call last)",
      "Cell \u001b[1;32mIn[10], line 12\u001b[0m\n\u001b[0;32m      9\u001b[0m lists \u001b[38;5;241m=\u001b[39m [\u001b[38;5;241m1\u001b[39m, \u001b[38;5;241m1\u001b[39m, \u001b[38;5;241m2\u001b[39m, \u001b[38;5;241m3\u001b[39m, \u001b[38;5;241m3\u001b[39m, \u001b[38;5;241m4\u001b[39m, \u001b[38;5;241m4\u001b[39m, \u001b[38;5;241m5\u001b[39m]\n\u001b[0;32m     11\u001b[0m \u001b[38;5;66;03m# Pair consecutive elements using zip and list slicing\u001b[39;00m\n\u001b[1;32m---> 12\u001b[0m result \u001b[38;5;241m=\u001b[39m \u001b[38;5;28mlist\u001b[39m(\u001b[38;5;28mzip\u001b[39m(lists, lists[\u001b[38;5;241m1\u001b[39m:]))\n\u001b[0;32m     14\u001b[0m \u001b[38;5;28mprint\u001b[39m(\u001b[38;5;124m\"\u001b[39m\u001b[38;5;124mPairing of consecutive elements:\u001b[39m\u001b[38;5;124m\"\u001b[39m)\n\u001b[0;32m     15\u001b[0m \u001b[38;5;28mprint\u001b[39m(result)\n",
      "\u001b[1;31mTypeError\u001b[0m: 'list' object is not callable"
     ]
    }
   ],
   "source": [
    "''' 18. Write a Python program to print consecutive elements pairing from the given list. \n",
    "    Data:\n",
    "        Original lists:\n",
    "        lists:[1, 1, 2, 3, 3, 4, 4, 5]\n",
    "    Expected Output:\n",
    "        Pairing of consecutive elements:\n",
    "        [(1, 1), (1, 2), (2, 3), (3, 3), (3, 4), (4, 4), (4, 5)] '''\n",
    "\n",
    "lists = [1, 1, 2, 3, 3, 4, 4, 5]\n",
    "\n",
    "result = list(zip(lists, lists[1:]))\n",
    "\n",
    "print(\"Pairing of consecutive elements:\")\n",
    "print(result)\n",
    "        \n",
    "        \n",
    "        \n",
    "        \n",
    "        "
   ]
  },
  {
   "cell_type": "code",
   "execution_count": 7,
   "metadata": {},
   "outputs": [
    {
     "name": "stdout",
     "output_type": "stream",
     "text": [
      "After removing duplicate words from the said list of strings:\n",
      "['Python', 'Exercises', 'Practice', 'Solution']\n"
     ]
    }
   ],
   "source": [
    "''' 19. Write a Python program to remove duplicate words from the given list of strings.\n",
    "    Data:\n",
    "        Original String:\n",
    "        ['Python', 'Exercises', 'Practice', 'Solution', 'Exercises']\n",
    "    Expected Output:\n",
    "        After removing duplicate words from the said list of strings:\n",
    "        ['Python', 'Exercises', 'Practice', 'Solution'] '''\n",
    "\n",
    "words = ['Python', 'Exercises', 'Practice', 'Solution', 'Exercises']\n",
    "result = []\n",
    "for word in words:\n",
    "    if word not in result:\n",
    "        result.append(word)\n",
    "print(\"After removing duplicate words from the said list of strings:\")\n",
    "print(result)\n",
    "\n",
    "        \n",
    "        \n",
    "        "
   ]
  },
  {
   "cell_type": "code",
   "execution_count": 4,
   "metadata": {},
   "outputs": [
    {
     "name": "stdout",
     "output_type": "stream",
     "text": [
      "Remove words:\n",
      "['white', 'orange']\n",
      "\n",
      "After removing the specified words from the said list:\n",
      "['red', 'green', 'blue', 'black']\n"
     ]
    }
   ],
   "source": [
    "''' 20. Write a Python program to remove specific words from the given list. \n",
    "    Data:\n",
    "        Original list:\n",
    "        list:['red', 'green', 'blue', 'white', 'black', 'orange']\n",
    "    Expected Output:\n",
    "        Remove words:\n",
    "        ['white', 'orange']\n",
    "\n",
    "        After removing the specified words from the said list:\n",
    "        ['red', 'green', 'blue', 'black'] '''\n",
    "list = ['red', 'green', 'blue', 'white', 'black', 'orange']\n",
    "remove_words = ['white', 'orange']\n",
    "result = [word for word in list if word not in remove_words]\n",
    "\n",
    "print(\"Remove words:\")\n",
    "print(remove_words)\n",
    "print(\"\\nAfter removing the specified words from the said list:\")\n",
    "print(result)\n",
    "        \n",
    "        \n",
    "        \n",
    "        "
   ]
  },
  {
   "cell_type": "code",
   "execution_count": null,
   "metadata": {},
   "outputs": [],
   "source": []
  }
 ],
 "metadata": {
  "kernelspec": {
   "display_name": "Python 3 (ipykernel)",
   "language": "python",
   "name": "python3"
  },
  "language_info": {
   "codemirror_mode": {
    "name": "ipython",
    "version": 3
   },
   "file_extension": ".py",
   "mimetype": "text/x-python",
   "name": "python",
   "nbconvert_exporter": "python",
   "pygments_lexer": "ipython3",
   "version": "3.12.7"
  }
 },
 "nbformat": 4,
 "nbformat_minor": 4
}
